{
  "cells": [
    {
      "cell_type": "code",
      "execution_count": 1,
      "id": "x0Yrq-L0rCUG",
      "metadata": {
        "colab": {
          "base_uri": "https://localhost:8080/"
        },
        "id": "x0Yrq-L0rCUG",
        "outputId": "fabd5af5-a19e-4e24-989a-b3fd0fac9fe4"
      },
      "outputs": [
        {
          "name": "stdout",
          "output_type": "stream",
          "text": [
            "Mounted at /content/drive\n"
          ]
        }
      ],
      "source": [
        "from google.colab import drive\n",
        "drive.mount('/content/drive')"
      ]
    },
    {
      "cell_type": "markdown",
      "id": "30f523a8",
      "metadata": {
        "id": "30f523a8"
      },
      "source": [
        "## 1. Dataset generattion"
      ]
    },
    {
      "cell_type": "markdown",
      "id": "997fa638",
      "metadata": {
        "id": "997fa638"
      },
      "source": [
        "I generated my dastet using a set of python scirpts rather than  a jupyter notebook. Below are the contents of these scirpts. I have not tested them on a jupyter notebbok"
      ]
    },
    {
      "cell_type": "markdown",
      "id": "d828440a",
      "metadata": {
        "id": "d828440a"
      },
      "source": [
        "### 1.1 Generate random generator matrices"
      ]
    },
    {
      "cell_type": "markdown",
      "id": "9c124748",
      "metadata": {
        "id": "9c124748"
      },
      "source": [
        "First I generated one file for each unique n,k combination that contains a set of random generator matrices"
      ]
    },
    {
      "cell_type": "code",
      "execution_count": null,
      "id": "4019b9fe",
      "metadata": {
        "id": "4019b9fe"
      },
      "outputs": [],
      "source": [
        "import numpy as np\n",
        "import math\n",
        "import pickle\n",
        "import gzip\n",
        "import os\n",
        "from concurrent.futures import ProcessPoolExecutor\n",
        "def generate_random_P(n, k, existing_Ps, num_samples):\n",
        "    \"\"\"\n",
        "    Generates unique random k x (n-k) matrices P with real values bounded between -100 and 100.\n",
        "    The number of unique matrices to generate is num_samples / (n-k)!.\n",
        "    Matrices with the same columns but in a different order are considered duplicates.\n",
        "    \"\"\"\n",
        "    target_count = num_samples\n",
        "    generated_count = 0\n",
        "\n",
        "    while generated_count < target_count:\n",
        "        P = np.random.uniform(-100, 100, (k, n - k))  # Real-valued matrix\n",
        "        # Check for duplicates considering column permutations\n",
        "        P_columns = frozenset(tuple(col) for col in P.T)\n",
        "        if P_columns not in existing_Ps:\n",
        "            existing_Ps.add(P_columns)\n",
        "            generated_count += 1\n",
        "            yield P\n",
        "\n",
        "def construct_generator_matrix(n, k, P):\n",
        "    \"\"\"\n",
        "    Constructs the systematic k×n generator matrix G given the k×(n−k) matrix P.\n",
        "    \"\"\"\n",
        "    if P.shape != (k, n - k):\n",
        "        raise ValueError(f\"P must have shape ({k}, {n-k}), but got {P.shape}\")\n",
        "\n",
        "    I_k = np.eye(k, dtype=P.dtype)\n",
        "    G = np.concatenate((I_k, P), axis=1)\n",
        "    return G"
      ]
    },
    {
      "cell_type": "code",
      "execution_count": null,
      "id": "374ff520",
      "metadata": {
        "id": "374ff520"
      },
      "outputs": [],
      "source": [
        "def generate_dataset(n, k, num_samples, max_m_value):\n",
        "    \"\"\"\n",
        "    Generates a dataset of random P matrices and saves the generator matrices.\n",
        "    Each row corresponds to one generator matrix and its associated max_m_value.\n",
        "    Saves the dataset to a compressed file named G_n_k.\n",
        "    \"\"\"\n",
        "    dataset = []\n",
        "    existing_Ps = set()\n",
        "\n",
        "    for P in generate_random_P(n, k, existing_Ps, num_samples):\n",
        "        G = construct_generator_matrix(n, k, P)\n",
        "        dataset.append({\n",
        "            \"generator_matrix\": G.tolist(),\n",
        "            \"max_m_value\": max_m_value\n",
        "        })\n",
        "\n",
        "    # Ensure the folder exists\n",
        "    os.makedirs(\"generator_matrices\", exist_ok=True)\n",
        "\n",
        "    # Save the dataset to a compressed file\n",
        "    file_name = f\"generator_matrices/G_{n}_{k}_maxM{max_m_value}.pkl.gz\"\n",
        "    with gzip.open(file_name, 'wb') as f:\n",
        "        pickle.dump(dataset, f)\n",
        "\n",
        "    print(f\"Dataset saved to {file_name}\")\n",
        "    return file_name\n",
        "\n",
        "def process_combination(args):\n",
        "    \"\"\"\n",
        "    Helper function to process a single combination of (n, k, max_m_value).\n",
        "    \"\"\"\n",
        "    n, k, max_m_value, num_samples = args\n",
        "    print(f\"Generating dataset for n={n}, k={k}, max_m_value={max_m_value}...\")\n",
        "    return generate_dataset(n, k, num_samples, max_m_value)"
      ]
    },
    {
      "cell_type": "code",
      "execution_count": null,
      "id": "9b9165fc",
      "metadata": {
        "id": "9b9165fc"
      },
      "outputs": [],
      "source": [
        "combinations = [\n",
        "    (9, 4, 5),\n",
        "    (9, 5, 4),\n",
        "    (9, 6, 3),\n",
        "    (10, 4, 6),\n",
        "    (10, 5, 5),\n",
        "    (10, 6, 6)\n",
        "]\n",
        "num_samples = 10000\n",
        "\n",
        "# Prepare arguments for multiprocessing\n",
        "args_list = [(n, k, max_m_value, num_samples) for n, k, max_m_value in combinations]\n",
        "\n",
        "# Use ProcessPoolExecutor with max_workers=4\n",
        "with ProcessPoolExecutor(max_workers=4) as executor:\n",
        "    results = list(executor.map(process_combination, args_list))\n",
        "\n",
        "combinations = [\n",
        "        (9, 4, 5, 35000), # n,k,max_m_value,num_samples\n",
        "        (9, 5, 4, 60000),\n",
        "        (9, 6, 3, 60000),\n",
        "        (10, 4, 6, 35000),\n",
        "        (10, 5, 5, 35000),\n",
        "        (10, 6, 6, 35000)\n",
        "    ]\n",
        "\n",
        "for n, k, max_m_value, num_samples in combinations:\n",
        "    process_combination(n, k, num_samples, max_m_value)\n",
        "\n",
        "print(\"All datasets have been generated.\")"
      ]
    },
    {
      "cell_type": "markdown",
      "id": "1291b719",
      "metadata": {
        "id": "1291b719"
      },
      "source": [
        "### 1.2 Solving for m-heights"
      ]
    },
    {
      "cell_type": "markdown",
      "id": "ea6b2f71",
      "metadata": {
        "id": "ea6b2f71"
      },
      "source": [
        "LP formulation for a given tuple"
      ]
    },
    {
      "cell_type": "code",
      "execution_count": null,
      "id": "0a3e29d2",
      "metadata": {
        "id": "0a3e29d2"
      },
      "outputs": [],
      "source": [
        "import sys\n",
        "import pickle\n",
        "import gzip\n",
        "import os\n",
        "import numpy as np\n",
        "from itertools import combinations, product\n",
        "from ortools.linear_solver import pywraplp\n",
        "import time\n",
        "import math\n",
        "from concurrent.futures import ProcessPoolExecutor\n",
        "\n",
        "def solve_m_height_lp_google(G, a, b, X, psi, debug=False):\n",
        "    \"\"\"\n",
        "    Solves the m-height LP problem for a given tuple (a, b, X, psi) using Google's OR-Tools.\n",
        "    \"\"\"\n",
        "    k, n = G.shape\n",
        "    Y = list(set(range(n)) - set(X) - {a, b})  # Y = [n] \\ X \\ {a, b}\n",
        "    tau = [a] + sorted(X) + [b] + sorted(Y)\n",
        "    tau_inv = {tau[j]: j for j in range(n)}  # Inverse of τ\n",
        "\n",
        "    solver = pywraplp.Solver.CreateSolver('GLOP')\n",
        "    if not solver:\n",
        "        raise Exception(\"Solver not created. Ensure OR-Tools is installed correctly.\")\n",
        "\n",
        "    u = [solver.NumVar(-solver.infinity(), solver.infinity(), f'u_{i}') for i in range(k)]\n",
        "\n",
        "    objective = solver.Objective()\n",
        "    for i in range(k):\n",
        "        coefficient = float(psi[0] * G[i, a])\n",
        "        objective.SetCoefficient(u[i], coefficient)\n",
        "    objective.SetMaximization()\n",
        "\n",
        "    for j in X:\n",
        "        j_tau = tau_inv[j]\n",
        "        constraint1 = solver.Constraint(-solver.infinity(), 0)\n",
        "        constraint2 = solver.Constraint(-solver.infinity(), -1)\n",
        "        for i in range(k):\n",
        "            constraint1.SetCoefficient(u[i], float(psi[j_tau] * G[i, j] - psi[0] * G[i, a]))\n",
        "            constraint2.SetCoefficient(u[i], float(-psi[j_tau] * G[i, j]))\n",
        "\n",
        "    eq_constraint = solver.Constraint(1, 1)\n",
        "    for i in range(k):\n",
        "        eq_constraint.SetCoefficient(u[i], float(G[i, b]))\n",
        "\n",
        "    for j in Y:\n",
        "        constraint1 = solver.Constraint(-solver.infinity(), 1)\n",
        "        constraint2 = solver.Constraint(-solver.infinity(), 1)\n",
        "        for i in range(k):\n",
        "            constraint1.SetCoefficient(u[i], float(G[i, j]))\n",
        "            constraint2.SetCoefficient(u[i], float(-G[i, j]))\n",
        "\n",
        "    status = solver.Solve()\n",
        "    if status == pywraplp.Solver.INFEASIBLE:\n",
        "        return 0\n",
        "    elif status == pywraplp.Solver.UNBOUNDED:\n",
        "        return float('inf')\n",
        "    else:\n",
        "        return objective.Value()"
      ]
    },
    {
      "cell_type": "markdown",
      "id": "0b6112c9",
      "metadata": {
        "id": "0b6112c9"
      },
      "source": [
        "Compute all m-heights  upto max m-value for a given Generator matrix"
      ]
    },
    {
      "cell_type": "code",
      "execution_count": null,
      "id": "d2e38192",
      "metadata": {
        "id": "d2e38192"
      },
      "outputs": [],
      "source": [
        "def compute_m_heights(G, lp_solve_function, max_m_value, debug=False):\n",
        "    \"\"\"\n",
        "    Computes all m-heights of the code defined by the generator matrix G.\n",
        "    \"\"\"\n",
        "    n = G.shape[1]\n",
        "    m_heights = []\n",
        "\n",
        "    for m in range(1, max_m_value + 1):\n",
        "        max_hm = float('-inf')\n",
        "        for a, b in product(range(n), repeat=2):\n",
        "            if a != b:\n",
        "                for X in combinations(set(range(n)) - {a, b}, m - 1):\n",
        "                    for psi in product([-1, 1], repeat=m):\n",
        "                        result = lp_solve_function(G, a, b, list(X), list(psi), debug=debug)\n",
        "                        max_hm = max(max_hm, result)\n",
        "        m_heights.append(max_hm)\n",
        "        if max_hm == float('inf'):\n",
        "            break\n",
        "\n",
        "    # Fill remaining m-heights with infinity\n",
        "    for m in range(len(m_heights), min(max_m_value + 1, n)):\n",
        "        m_heights.append(float('inf'))\n",
        "\n",
        "    return m_heights"
      ]
    },
    {
      "cell_type": "markdown",
      "id": "baf7410d",
      "metadata": {
        "id": "baf7410d"
      },
      "source": [
        "Stepping through the generated dataset and solving m-heights for all the Generator matrices in the dataset. Each n,k combination has its own dataset. The dataset is processed in batches to reduce mmeory usage and easy pickup on crash"
      ]
    },
    {
      "cell_type": "code",
      "execution_count": null,
      "id": "775d24fa",
      "metadata": {
        "id": "775d24fa"
      },
      "outputs": [],
      "source": [
        "def process_sample(sample):\n",
        "    \"\"\"\n",
        "    Processes a single generator matrix sample, computes m-heights, and returns the result.\n",
        "    \"\"\"\n",
        "    G = np.array(sample[\"generator_matrix\"], dtype=np.float32)\n",
        "    max_m_value = sample[\"max_m_value\"]\n",
        "\n",
        "    k = G.shape[0]\n",
        "    P = G[:, k:]  # Remove the kxk identity matrix from the front of G\n",
        "    print(\"Started processing sample...\")\n",
        "    m_heights = compute_m_heights(G, solve_m_height_lp_google, max_m_value)\n",
        "    print(\"Finished processing sample.\")\n",
        "    return {\n",
        "        \"n\": G.shape[1],\n",
        "        \"k\": G.shape[0],\n",
        "        \"P_matrix\": P.tolist(),\n",
        "        \"m_heights\": m_heights\n",
        "    }\n",
        "\n",
        "def process_batch(batch_data):\n",
        "    \"\"\"\n",
        "    Processes a batch of generator matrix samples in parallel and returns the results.\n",
        "    \"\"\"\n",
        "    with ProcessPoolExecutor() as executor:\n",
        "        results = list(executor.map(process_sample, batch_data))\n",
        "    return results\n",
        "\n",
        "def process_dataset(input_file, batch_size, num_workers, output_folder):\n",
        "    \"\"\"\n",
        "    Processes a generator matrix dataset in batches using multiprocessing,\n",
        "    computes m-heights for each sample in parallel within a batch, and saves the results.\n",
        "    \"\"\"\n",
        "    print(f\"Starting dataset processing: {input_file}, batch size: {batch_size}, workers: {num_workers}, output folder: {output_folder}\")\n",
        "    try:\n",
        "        with gzip.open(input_file, 'rb') as f:\n",
        "            dataset = pickle.load(f)\n",
        "\n",
        "        if not dataset:\n",
        "            print(\"The dataset is empty.\")\n",
        "            return\n",
        "\n",
        "        # Create a subfolder for this input file under the output folder\n",
        "        input_file_name = os.path.splitext(os.path.basename(input_file))[0]\n",
        "        subfolder = os.path.join(output_folder, input_file_name)\n",
        "        os.makedirs(subfolder, exist_ok=True)\n",
        "\n",
        "        total_samples = len(dataset)\n",
        "        running_total = 0\n",
        "\n",
        "        # Split the dataset into batches\n",
        "        batches = [dataset[i:i + batch_size] for i in range(0, total_samples, batch_size)]\n",
        "\n",
        "        for batch_number, batch_data in enumerate(batches, start=1):\n",
        "            print(f\"Processing batch {batch_number} with {len(batch_data)} samples...\")\n",
        "\n",
        "            # Process the batch in parallel\n",
        "            results = process_batch(batch_data)\n",
        "\n",
        "            # Save the batch results to a file in the subfolder\n",
        "            output_file = os.path.join(subfolder, f\"batch_{batch_number}.pkl.gz\")\n",
        "            with gzip.open(output_file, 'wb') as f:\n",
        "                pickle.dump(results, f)\n",
        "\n",
        "            running_total += len(batch_data)\n",
        "            print(f\"Processed batch {batch_number}, running total: {running_total}/{total_samples}\")\n",
        "\n",
        "        print(f\"All batches for {input_file} have been processed and saved in {subfolder}.\")\n",
        "\n",
        "    except FileNotFoundError:\n",
        "        print(f\"Error: File not found: {input_file}\")\n",
        "    except Exception as e:\n",
        "        print(f\"An error occurred: {e}\")"
      ]
    },
    {
      "cell_type": "code",
      "execution_count": null,
      "id": "d12813df",
      "metadata": {
        "id": "d12813df"
      },
      "outputs": [],
      "source": [
        "input_files = [\n",
        "    'generator_matrices/G_9_4_maxM5.pkl.gz',\n",
        "    'generator_matrices/G_9_5_maxM4.pkl.gz',\n",
        "    'generator_matrices/G_9_6_maxM3.pkl.gz',\n",
        "    'generator_matrices/G_10_4_maxM6.pkl.gz',\n",
        "    'generator_matrices/G_10_5_maxM5.pkl.gz',\n",
        "    'generator_matrices/G_10_6_maxM6.pkl.gz'\n",
        "]\n",
        "# Process each input file\n",
        "for input_file in input_files:\n",
        "    process_dataset(input_file, batch_size = 100, num_workers = 4, output_folder= 'samples')\n"
      ]
    },
    {
      "cell_type": "markdown",
      "id": "63301fc5",
      "metadata": {
        "id": "63301fc5"
      },
      "source": [
        "Combining all batches into one training dataset per n,k combination"
      ]
    },
    {
      "cell_type": "code",
      "execution_count": null,
      "id": "b54b94f5",
      "metadata": {
        "id": "b54b94f5"
      },
      "outputs": [],
      "source": [
        "def combine_batches(samples_dirs, output_dir):\n",
        "    \"\"\"\n",
        "    Combines batches from multiple samples directories into a single output directory.\n",
        "\n",
        "    Args:\n",
        "        samples_dirs (list): List of directories containing the samples.\n",
        "        output_dir (str): Directory where the combined datasets will be saved.\n",
        "    \"\"\"\n",
        "    os.makedirs(output_dir, exist_ok=True)\n",
        "\n",
        "    # Collect all unique dataset subfolder names\n",
        "    dataset_names = set()\n",
        "    for samples_dir in samples_dirs:\n",
        "        for subfolder in os.listdir(samples_dir):\n",
        "            dataset_names.add(subfolder)\n",
        "\n",
        "    print(f\"Found dataset names: {dataset_names}\")\n",
        "    # Process each dataset\n",
        "    for dataset_name in dataset_names:\n",
        "        combined_batches = []\n",
        "        for samples_dir in samples_dirs:\n",
        "            dataset_path = os.path.join(samples_dir, dataset_name)\n",
        "            if os.path.exists(dataset_path) and os.path.isdir(dataset_path):\n",
        "                for batch_file in sorted(os.listdir(dataset_path)):\n",
        "                    batch_path = os.path.join(dataset_path, batch_file)\n",
        "                    if batch_file.endswith(\".pkl.gz\"):\n",
        "                        with gzip.open(batch_path, 'rb') as f:\n",
        "                            batch_data = pickle.load(f)\n",
        "                            combined_batches.extend(batch_data)\n",
        "\n",
        "        # Save the combined dataset\n",
        "        # output_dataset_path = os.path.join(output_dir, dataset_name)\n",
        "        # os.makedirs(output_dataset_path, exist_ok=True)\n",
        "        output_file = os.path.join(output_dir, dataset_name + \"gz\")\n",
        "        with gzip.open(output_file, 'wb') as f:\n",
        "            pickle.dump(combined_batches, f)\n",
        "            # Print the size of the combined dataset\n",
        "            print(f\"Size of combined dataset '{dataset_name}': {len(combined_batches)} samples saved to {output_file}\")\n",
        "        # print(f\"Combined dataset '{dataset_name}' saved to {output_file}\")"
      ]
    },
    {
      "cell_type": "code",
      "execution_count": null,
      "id": "ad7d53ad",
      "metadata": {
        "id": "ad7d53ad"
      },
      "outputs": [],
      "source": [
        "# List of directories containing the samples\n",
        "samples_dirs = [\"samples\" ]\n",
        "# Output directory for combined datasets\n",
        "output_dir = \"samples_combined\"\n",
        "\n",
        "combine_batches(samples_dirs, output_dir)"
      ]
    },
    {
      "cell_type": "markdown",
      "id": "EcUnU1CkrSGl",
      "metadata": {
        "id": "EcUnU1CkrSGl"
      },
      "source": [
        "## 2. Model Training"
      ]
    },
    {
      "cell_type": "code",
      "execution_count": 2,
      "id": "dtbaXSbprXE6",
      "metadata": {
        "id": "dtbaXSbprXE6"
      },
      "outputs": [],
      "source": [
        "import tensorflow as tf\n",
        "from tensorflow.keras import layers, models\n",
        "import numpy as np\n",
        "import pickle\n",
        "import gzip\n",
        "from sklearn.model_selection import train_test_split\n",
        "import matplotlib.pyplot as plt"
      ]
    },
    {
      "cell_type": "markdown",
      "id": "x6x7KXuIrgsJ",
      "metadata": {
        "id": "x6x7KXuIrgsJ"
      },
      "source": [
        "###2.1 Custom training pipeline\n",
        "A custom class to encapsulate the training pipeline. For each n,k commbination, this class encapsulates the steps to laod and preprocess the input dataset; compile, train and test tthe model"
      ]
    },
    {
      "cell_type": "code",
      "execution_count": 3,
      "id": "UvaOq_1orbSH",
      "metadata": {
        "id": "UvaOq_1orbSH"
      },
      "outputs": [],
      "source": [
        "class CustomModel:\n",
        "    def __init__(self, n, k, max_m_value):\n",
        "        self.n = n\n",
        "        self.k = k\n",
        "        self.max_m_value = max_m_value\n",
        "\n",
        "        self.P_matrices = None\n",
        "        self.m_heights = None\n",
        "        self.P_matrices_train = None\n",
        "        self.P_matrices_test = None\n",
        "        self.P_matrices_val = None\n",
        "        self.m_heights_train = None\n",
        "        self.m_heights_test = None\n",
        "        self.m_heights_log_train = None\n",
        "        self.m_heights_log_test = None\n",
        "        self.m_heights_log_val = None\n",
        "        self.eval_inputs = None\n",
        "        self.eval_outputs = None\n",
        "        self.P_matrices_train_aug = None\n",
        "        self.m_heights_log_train_aug = None\n",
        "\n",
        "        self.train_dataset = None\n",
        "        self.val_dataset = None\n",
        "\n",
        "        self.model_name = f'model_{self.n}_{self.k}.keras'\n",
        "        self.model = None\n",
        "        self.history = None\n",
        "    def load_and_preprocess_data(self,filepath):\n",
        "        with gzip.open(filepath, 'rb') as f:\n",
        "            dataset = pickle.load(f)\n",
        "\n",
        "        self.P_matrices = []\n",
        "        self.m_heights = []\n",
        "\n",
        "        for row in dataset:\n",
        "            # Remove the last `inf`, this is an error due to bug in the dataset generation\n",
        "            heights = row['m_heights'][:self.max_m_value]\n",
        "            if len(heights) != self.max_m_value:\n",
        "                continue\n",
        "            if any(h == float('inf') or h <= 0 for h in heights):\n",
        "                continue\n",
        "            # Convert m-heights to log scale\n",
        "            # log_heights = np.log(heights)\n",
        "            P_matrix = np.array(row['P_matrix'], dtype=np.float32)\n",
        "\n",
        "            self.P_matrices.append(P_matrix)\n",
        "            # m_heights.append(log_heights)\n",
        "            self.m_heights.append(heights)\n",
        "        self.P_matrices = np.array(self.P_matrices, dtype=np.float32)\n",
        "        self.m_heights = np.array(self.m_heights, dtype=np.float32)\n",
        "        print(\"P_matrices shape:\", self.P_matrices.shape)\n",
        "        print(\"m_heights shape:\", self.m_heights.shape)\n",
        "        # pritnt range of all m-heights\n",
        "        print(\"Range of m_heights:\")\n",
        "        print(\"Min:\", np.min(self.m_heights, axis=0))\n",
        "        print(\"Max:\", np.max(self.m_heights, axis=0))\n",
        "\n",
        "    def generate_permuted_dataset(self, P_matrices, m_heights, num_permutations=3):\n",
        "        \"\"\"Create augmented dataset by permuting columns of P_matrices.\"\"\"\n",
        "        augmented_P_matrices = []\n",
        "        augmented_m_heights = []\n",
        "\n",
        "        for i in range(len(P_matrices)):\n",
        "            original = P_matrices[i]\n",
        "            target = m_heights[i]\n",
        "\n",
        "            # Keep original\n",
        "            augmented_P_matrices.append(original)\n",
        "            augmented_m_heights.append(target)\n",
        "\n",
        "            # Generate random permutations\n",
        "            for _ in range(num_permutations):\n",
        "                permuted = original[:, np.random.permutation(original.shape[1])]\n",
        "                augmented_P_matrices.append(permuted)\n",
        "                augmented_m_heights.append(target)\n",
        "        return np.array(augmented_P_matrices), np.array(augmented_m_heights)\n",
        "    def train_test_val_split(self, val_split=0.2, test_split=0.2, num_permutations=4, batch_size=128, random_state=2342):\n",
        "\n",
        "        if(self.P_matrices is None or self.m_heights is None):\n",
        "            raise ValueError(\"Data not loaded. Please load the data first.\")\n",
        "        # Train-test split\n",
        "        self.P_matrices_train, self.P_matrices_test,\\\n",
        "              self.m_heights_train, self.m_heights_test\\\n",
        "                 = train_test_split(self.P_matrices, self.m_heights, test_size=test_split, random_state=random_state)\n",
        "\n",
        "        # Converting test set to evaluator format\n",
        "        self.eval_inputs = {}\n",
        "        self.eval_outputs = {}\n",
        "\n",
        "        # Iterate through each P_matrix and corresponding m_heights in test_dataset\n",
        "        for i in range(len(self.P_matrices_test)):\n",
        "            P_matrix = self.P_matrices_test[i]\n",
        "            m_heights_list = self.m_heights_test[i]\n",
        "            for m in range(2, self.max_m_value + 1):  # m ranges from 2 to max_m_value\n",
        "                key = f\"[{self.n},{self.k},{m}]\"\n",
        "\n",
        "                # Add the P_matrix to the inputs dictionary\n",
        "                if key not in self.eval_inputs:\n",
        "                    self.eval_inputs[key] = []\n",
        "                self.eval_inputs[key].append(P_matrix)\n",
        "\n",
        "                # Add the corresponding m_height to the outputs dictionary\n",
        "                if key not in self.eval_outputs:\n",
        "                    self.eval_outputs[key] = []\n",
        "                self.eval_outputs[key].append(m_heights_list[m - 1])  # m-1 to get the correct index\n",
        "\n",
        "        # Change m_heights_train and m_heights_test to log_scale\n",
        "        self.m_heights_log_train = np.log(self.m_heights_train)\n",
        "        self.m_heights_log_test = np.log(self.m_heights_test)\n",
        "        print(\"Range of log m_heights in training data:\")\n",
        "        print(\"Min:\", np.min(self.m_heights_log_train, axis=0))\n",
        "        print(\"Max:\", np.max(self.m_heights_log_train, axis=0))\n",
        "\n",
        "        # Train-validation split\n",
        "        self.P_matrices_train, self.P_matrices_val, self.m_heights_log_train, self.m_heights_log_val = train_test_split(self.P_matrices_train, self.m_heights_log_train, test_size=val_split, random_state=random_state)\n",
        "        # Generate augmented  training dataset\n",
        "        self.P_matrices_train_aug, self.m_heights_log_train_aug = self.generate_permuted_dataset(self.P_matrices_train, self.m_heights_log_train, num_permutations=num_permutations)\n",
        "        # Create TensorFlow datasets\n",
        "        self.train_dataset = tf.data.Dataset.from_tensor_slices((self.P_matrices_train_aug, self.m_heights_log_train_aug))\n",
        "        self.train_dataset = self.train_dataset.shuffle(self.P_matrices_train_aug.shape[0]).batch(batch_size).prefetch(tf.data.AUTOTUNE)\n",
        "\n",
        "        self.val_dataset = tf.data.Dataset.from_tensor_slices((self.P_matrices_val, self.m_heights_log_val))\n",
        "        self.val_dataset = self.val_dataset.shuffle(self.P_matrices_val.shape[0]).batch(batch_size).prefetch(tf.data.AUTOTUNE)\n",
        "        print(\"Train dataset shape:\", self.P_matrices_train_aug.shape, self.m_heights_log_train_aug.shape)\n",
        "        print(\"Validation dataset shape:\", self.P_matrices_val.shape, self.m_heights_log_val.shape)\n",
        "        print(\"Test dataset shape:\", self.P_matrices_test.shape, self.m_heights_log_test.shape)\n",
        "\n",
        "    def model_compile(self, build_model, print_summary=False):\n",
        "        if self.train_dataset is None or self.val_dataset is None:\n",
        "            raise ValueError(\"Train and validation datasets not created. Please create them first.\")\n",
        "        self.model = build_model(self.n, self.k, self.max_m_value)\n",
        "        print(\"Model compiled.\")\n",
        "        if print_summary:\n",
        "            self.model.summary()\n",
        "\n",
        "    def model_train(self, epochs=10, verbose=0, patience=5 , model_save_directory=\".\"):\n",
        "        if self.model is None:\n",
        "            raise ValueError(\"Model not built. Please build the model first.\")\n",
        "\n",
        "        # Early stopping callback\n",
        "        early_stopping = tf.keras.callbacks.EarlyStopping(monitor='val_loss', patience=patience, restore_best_weights=True)\n",
        "        model_checkpoint = tf.keras.callbacks.ModelCheckpoint(model_save_directory + '/' + self.model_name, save_best_only=True)\n",
        "        # Train the model\n",
        "        self.history = self.model.fit(\n",
        "            self.train_dataset,\n",
        "            validation_data=self.val_dataset,\n",
        "            epochs=epochs,\n",
        "            callbacks=[\n",
        "                early_stopping,\n",
        "                model_checkpoint,\n",
        "            ],\n",
        "            verbose=verbose\n",
        "        )\n",
        "    def plot_history(self):\n",
        "        if self.history is None:\n",
        "            raise ValueError(\"Model not trained. Train the model first.\")\n",
        "        history_dict = self.history.history\n",
        "        mse = history_dict[\"loss\"]\n",
        "        val_mse = history_dict[\"val_loss\"]\n",
        "        epochs = range(1, len(mse) + 1)\n",
        "        print('Train MSE :', mse)\n",
        "        print('Validation MSE :', val_mse)\n",
        "        plt.plot(epochs, mse, \"bo\", label=\"Training mse\")\n",
        "        plt.plot(epochs, val_mse, \"b\", label=\"Validation mse\")\n",
        "        plt.title(\"Training and validation mean squared error\")\n",
        "        plt.xlabel(\"Epochs\")\n",
        "        plt.ylabel(\"MSE\")\n",
        "        plt.legend()\n",
        "        plt.show()\n",
        "    def evaluate_model(self, batch_size=128):\n",
        "        if self.history is None:\n",
        "            raise ValueError(\"Model not trained. Train the model first.\")\n",
        "        results = self.model.evaluate(self.P_matrices_test, self.m_heights_log_test, batch_size=batch_size, verbose=0)\n",
        "        print('Best model loss :', results)"
      ]
    },
    {
      "cell_type": "markdown",
      "id": "zEDOLd99sX6w",
      "metadata": {
        "id": "zEDOLd99sX6w"
      },
      "source": [
        "### 2.2 Model buiding function"
      ]
    },
    {
      "cell_type": "markdown",
      "id": "ArwjrsQ51wtu",
      "metadata": {
        "id": "ArwjrsQ51wtu"
      },
      "source": [
        "I've also tried out other architecutres, loss functions, optimzers and other output reprsentations. This is what gave me the best result."
      ]
    },
    {
      "cell_type": "code",
      "execution_count": 4,
      "id": "Y1MOcvzxsbKT",
      "metadata": {
        "id": "Y1MOcvzxsbKT"
      },
      "outputs": [],
      "source": [
        "## This is inspired by the Deepsets architecture, which treats inputs as a set\n",
        "## In this case each P matrix can also be thought of as a set of columns\n",
        "def build_model(n, k, max_m_value):\n",
        "    input_shape = (k, n - k)\n",
        "\n",
        "    # Input layer\n",
        "    input_layer = layers.Input(shape=input_shape)\n",
        "\n",
        "    # Transpose so we can treat each column independently\n",
        "    # After transpose: shape becomes (batch_size, n-k, k)\n",
        "    transposed = layers.Permute((2, 1))(input_layer)\n",
        "\n",
        "    # Shared MLP applied to each column (like DeepSets)\n",
        "    shared_mlp = tf.keras.Sequential([\n",
        "        layers.Dense(64),\n",
        "        layers.BatchNormalization(),\n",
        "        layers.Activation('relu'),\n",
        "\n",
        "        layers.Dense(64),\n",
        "        layers.BatchNormalization(),\n",
        "        layers.Activation('relu'),\n",
        "    ])\n",
        "\n",
        "    # Apply shared MLP to each column (TimeDistributed over n-k columns)\n",
        "    encoded_columns = layers.TimeDistributed(shared_mlp)(transposed)  # (batch, n-k, 64)\n",
        "\n",
        "    # Aggregate over columns to achieve permutation invariance\n",
        "    aggregated = layers.GlobalAveragePooling1D()(encoded_columns)  # (batch, 64)\n",
        "\n",
        "    # Final prediction head\n",
        "    output_layer = layers.Dense(max_m_value, activation='linear')(aggregated)\n",
        "\n",
        "    model = models.Model(inputs=input_layer, outputs=output_layer)\n",
        "    model.compile(optimizer='adam', loss='mse')\n",
        "\n",
        "\n",
        "    return model\n"
      ]
    },
    {
      "cell_type": "markdown",
      "id": "M68XMKoYtCFg",
      "metadata": {
        "id": "M68XMKoYtCFg"
      },
      "source": [
        "### 2.3 Training pipeline"
      ]
    },
    {
      "cell_type": "code",
      "execution_count": 5,
      "id": "QaFGaSn2tF73",
      "metadata": {
        "colab": {
          "base_uri": "https://localhost:8080/"
        },
        "id": "QaFGaSn2tF73",
        "outputId": "8846e5fe-1101-4a41-9044-a14be1bce8e0"
      },
      "outputs": [
        {
          "data": {
            "text/plain": [
              "0"
            ]
          },
          "execution_count": 5,
          "metadata": {},
          "output_type": "execute_result"
        }
      ],
      "source": [
        "# Training a model for each n,k combination\n",
        "models_dict =  {\n",
        "    \"model_1\": {'n': 9, 'k': 4, 'max_m_value': 5, 'model': None, 'file_name': \"G_9_4_maxM5.pklgz\"},\n",
        "    \"model_2\": {'n': 9, 'k': 5, 'max_m_value': 4, 'model': None, 'file_name': \"G_9_5_maxM4.pklgz\"},\n",
        "    \"model_3\": {'n': 9, 'k': 6, 'max_m_value': 3, 'model': None, 'file_name': \"G_9_6_maxM3.pklgz\"},\n",
        "    \"model_4\": {'n': 10, 'k': 4, 'max_m_value': 6, 'model': None, 'file_name': \"G_10_4_maxM6.pklgz\"},\n",
        "    \"model_5\": {'n': 10, 'k': 5, 'max_m_value': 5, 'model': None, 'file_name': \"G_10_5_maxM5.pklgz\"},\n",
        "    \"model_6\": {'n': 10, 'k': 6, 'max_m_value': 4, 'model': None, 'file_name': \"G_10_6_maxM6.pklgz\"},\n",
        "}\n",
        "import gc\n",
        "gc.collect()"
      ]
    },
    {
      "cell_type": "code",
      "execution_count": 9,
      "id": "0n3soIostO1b",
      "metadata": {
        "id": "0n3soIostO1b"
      },
      "outputs": [],
      "source": [
        "# This is wher my samples as stored. Change this if you want to run the training pipeline\n",
        "# import os\n",
        "# os.chdir(\"/content/drive/MyDrive/m_height_prediction\")\n",
        "samples_filepath = \"/content/drive/MyDrive/m_height_prediction/samples_combined/\""
      ]
    },
    {
      "cell_type": "markdown",
      "id": "GCHzWx_Qvep9",
      "metadata": {
        "id": "GCHzWx_Qvep9"
      },
      "source": [
        "This is the main training loop. For each model, data is loaded and proposed, model is compiled, trained and tested."
      ]
    },
    {
      "cell_type": "code",
      "execution_count": 10,
      "id": "Ti-sMO5dtZgG",
      "metadata": {
        "colab": {
          "base_uri": "https://localhost:8080/",
          "height": 1000
        },
        "id": "Ti-sMO5dtZgG",
        "outputId": "8e3ea753-ea02-4f9e-b38c-9a9ec7a85e43"
      },
      "outputs": [
        {
          "name": "stdout",
          "output_type": "stream",
          "text": [
            "Loading data for model_9_4...\n",
            "P_matrices shape: (34999, 4, 5)\n",
            "m_heights shape: (34999, 5)\n",
            "Range of m_heights:\n",
            "Min: [   3.3710756    8.660064    75.08341    182.32542   1253.2301   ]\n",
            "Max: [2.7675543e+02 7.5315314e+02 4.8695015e+03 2.2775238e+05 7.9118080e+08]\n",
            "\n",
            "Generating dataset for model_9_4...\n",
            "Range of log m_heights in training data:\n",
            "Min: [1.2152319 2.1587222 4.3185997 5.2057934 7.1334796]\n",
            "Max: [ 5.623134   6.6242685  8.4907465 12.336015  20.489037 ]\n",
            "Train dataset shape: (170094, 4, 5) (170094, 5)\n",
            "Validation dataset shape: (3150, 4, 5) (3150, 5)\n",
            "Test dataset shape: (3500, 4, 5) (3500, 5)\n",
            "\n",
            "Compiling model for model_9_4...\n",
            "Model compiled.\n",
            "\n",
            "Training model for model_9_4...\n",
            "\n",
            "Evaluating model for model_9_4...\n",
            "Train MSE : [6.852465629577637, 0.5878745913505554, 0.58399498462677, 0.5822305679321289, 0.5813416242599487, 0.5803960561752319, 0.5799888968467712, 0.579305112361908, 0.5787785053253174, 0.5787267088890076, 0.5784411430358887, 0.5781653523445129, 0.5773599743843079, 0.5774542093276978, 0.5770302414894104, 0.5768699645996094, 0.5763787031173706, 0.5760216116905212, 0.5759851336479187, 0.5757096409797668, 0.5758146643638611]\n",
            "Validation MSE : [0.5976662635803223, 0.5900887250900269, 0.5941912531852722, 0.5916966795921326, 0.5865991115570068, 0.5903687477111816, 0.5851131081581116, 0.5844559669494629, 0.5859741568565369, 0.5869848728179932, 0.5840659737586975, 0.585978627204895, 0.5857038497924805, 0.582286536693573, 0.5846879482269287, 0.5835975408554077, 0.5862025022506714, 0.5851919651031494, 0.5837727785110474, 0.5838752388954163, 0.5852797031402588]\n"
          ]
        },
        {
          "data": {
            "image/png": "[encoded data removed]",
            "text/plain": [
              "<Figure size 640x480 with 1 Axes>"
            ]
          },
          "metadata": {},
          "output_type": "display_data"
        },
        {
          "name": "stdout",
          "output_type": "stream",
          "text": [
            "\n",
            "Performance on test set for model_9_4:\n",
            "Best model loss : 0.5670957565307617\n",
            "\n",
            "Done with model_9_4.\n",
            "-----------------------------------------------------\n",
            "Loading data for model_9_5...\n",
            "P_matrices shape: (59992, 5, 4)\n",
            "m_heights shape: (59992, 4)\n",
            "Range of m_heights:\n",
            "Min: [   6.3078012   59.612354   217.01117   1291.7003   ]\n",
            "Max: [4.2418826e+02 5.4309243e+03 4.0550069e+05 2.9340678e+08]\n",
            "\n",
            "Generating dataset for model_9_5...\n",
            "Range of log m_heights in training data:\n",
            "Min: [1.8417871 4.087863  5.3799486 7.163715 ]\n",
            "Max: [ 6.0501776  8.599865  12.912878  19.49707  ]\n",
            "Train dataset shape: (291552, 5, 4) (291552, 4)\n",
            "Validation dataset shape: (5400, 5, 4) (5400, 4)\n",
            "Test dataset shape: (6000, 5, 4) (6000, 4)\n",
            "\n",
            "Compiling model for model_9_5...\n",
            "Model compiled.\n",
            "\n",
            "Training model for model_9_5...\n",
            "\n",
            "Evaluating model for model_9_5...\n",
            "Train MSE : [3.633114814758301, 0.5731589198112488, 0.568832516670227, 0.5669155716896057, 0.5655038356781006, 0.5647780299186707, 0.5639448761940002, 0.5632327795028687, 0.562858521938324, 0.5620651245117188, 0.5619465112686157, 0.5611581802368164, 0.561130940914154, 0.560360848903656, 0.5604782104492188, 0.5598751306533813, 0.5599654316902161, 0.5593798160552979, 0.5590360760688782, 0.5590331554412842, 0.5587231516838074, 0.5584442019462585, 0.5583121180534363, 0.5579521059989929, 0.5577391386032104, 0.5576622486114502, 0.5577465891838074]\n",
            "Validation MSE : [0.5999813675880432, 0.5951599478721619, 0.5972195267677307, 0.5975393056869507, 0.5874341726303101, 0.6002137064933777, 0.5879979729652405, 0.5886770486831665, 0.5882377028465271, 0.5867732167243958, 0.5971468091011047, 0.5904849171638489, 0.5866929888725281, 0.5853456854820251, 0.5862753987312317, 0.5867486596107483, 0.5912567973136902, 0.5888251066207886, 0.5845888257026672, 0.5844186544418335, 0.5847513675689697, 0.5920902490615845, 0.585117757320404, 0.5847970247268677, 0.58451908826828, 0.590326189994812, 0.584818959236145]\n"
          ]
        },
        {
          "data": {
            "image/png": "[encoded data removed]",
            "text/plain": [
              "<Figure size 640x480 with 1 Axes>"
            ]
          },
          "metadata": {},
          "output_type": "display_data"
        },
        {
          "name": "stdout",
          "output_type": "stream",
          "text": [
            "\n",
            "Performance on test set for model_9_5:\n",
            "Best model loss : 0.5651624798774719\n",
            "\n",
            "Done with model_9_5.\n",
            "-----------------------------------------------------\n",
            "Loading data for model_9_6...\n",
            "P_matrices shape: (59998, 6, 3)\n",
            "m_heights shape: (59998, 3)\n",
            "Range of m_heights:\n",
            "Min: [ 30.234015 179.31691  797.8311  ]\n",
            "Max: [5.184621e+02 7.401902e+04 3.043078e+08]\n",
            "\n",
            "Generating dataset for model_9_6...\n",
            "Range of log m_heights in training data:\n",
            "Min: [3.4089675 5.1891546 6.681897 ]\n",
            "Max: [ 6.250867 11.212077 19.53355 ]\n",
            "Train dataset shape: (291588, 6, 3) (291588, 3)\n",
            "Validation dataset shape: (5400, 6, 3) (5400, 3)\n",
            "Test dataset shape: (6000, 6, 3) (6000, 3)\n",
            "\n",
            "Compiling model for model_9_6...\n",
            "Model compiled.\n",
            "\n",
            "Training model for model_9_6...\n",
            "\n",
            "Evaluating model for model_9_6...\n",
            "Train MSE : [5.110098838806152, 0.6508118510246277, 0.6436755657196045, 0.6407701373100281, 0.6384272575378418, 0.6365761160850525, 0.6354950070381165, 0.6347277164459229, 0.6331126093864441, 0.6321492195129395, 0.6316044330596924, 0.6312832236289978]\n",
            "Validation MSE : [0.6624414324760437, 0.6576899290084839, 0.6558995842933655, 0.6414419412612915, 0.6409774422645569, 0.6412337422370911, 0.6442331075668335, 0.6487813591957092, 0.6434763073921204, 0.6462528705596924, 0.6459214091300964, 0.6410913467407227]\n"
          ]
        },
        {
          "data": {
            "image/png": "[encoded data removed]",
            "text/plain": [
              "<Figure size 640x480 with 1 Axes>"
            ]
          },
          "metadata": {},
          "output_type": "display_data"
        },
        {
          "name": "stdout",
          "output_type": "stream",
          "text": [
            "\n",
            "Performance on test set for model_9_6:\n",
            "Best model loss : 0.61519455909729\n",
            "\n",
            "Done with model_9_6.\n",
            "-----------------------------------------------------\n",
            "Loading data for model_10_4...\n",
            "P_matrices shape: (34999, 4, 6)\n",
            "m_heights shape: (34999, 6)\n",
            "Range of m_heights:\n",
            "Min: [   2.600804    7.893224   43.2334    124.328674  241.41588  1932.9349  ]\n",
            "Max: [1.9218018e+02 2.9002396e+02 1.3718380e+03 8.4791533e+03 2.5119502e+05\n",
            " 6.0206176e+08]\n",
            "\n",
            "Generating dataset for model_10_4...\n",
            "Range of log m_heights in training data:\n",
            "Min: [0.9558207 2.14672   3.7666132 4.86294   5.4865212 7.566795 ]\n",
            "Max: [ 5.1901255  5.6699634  7.2239065  9.045366  12.433985  20.21587  ]\n",
            "Train dataset shape: (170094, 4, 6) (170094, 6)\n",
            "Validation dataset shape: (3150, 4, 6) (3150, 6)\n",
            "Test dataset shape: (3500, 4, 6) (3500, 6)\n",
            "\n",
            "Compiling model for model_10_4...\n",
            "Model compiled.\n",
            "\n",
            "Training model for model_10_4...\n",
            "\n",
            "Evaluating model for model_10_4...\n",
            "Train MSE : [6.051126003265381, 0.5048061013221741, 0.5016435980796814, 0.5000633597373962, 0.49905428290367126, 0.4983814060688019, 0.4978397488594055, 0.4972868263721466, 0.4969427287578583, 0.4965498745441437, 0.4963045120239258, 0.4959161877632141, 0.4956602156162262, 0.49523475766181946, 0.4951058626174927, 0.49501851201057434, 0.4944700598716736, 0.49442195892333984, 0.49440425634384155, 0.4941909909248352, 0.4939025938510895, 0.49351033568382263]\n",
            "Validation MSE : [0.5010642409324646, 0.5011661648750305, 0.49482694268226624, 0.5051817893981934, 0.49378901720046997, 0.49377793073654175, 0.4975939691066742, 0.49683141708374023, 0.4942956864833832, 0.4939953088760376, 0.4956222176551819, 0.4954052269458771, 0.4935287535190582, 0.4917154312133789, 0.49116572737693787, 0.4914611876010895, 0.496726393699646, 0.49293744564056396, 0.49284595251083374, 0.49247774481773376, 0.49396008253097534, 0.49358895421028137]\n"
          ]
        },
        {
          "data": {
            "image/png": "[encoded data removed]",
            "text/plain": [
              "<Figure size 640x480 with 1 Axes>"
            ]
          },
          "metadata": {},
          "output_type": "display_data"
        },
        {
          "name": "stdout",
          "output_type": "stream",
          "text": [
            "\n",
            "Performance on test set for model_10_4:\n",
            "Best model loss : 0.5033398866653442\n",
            "\n",
            "Done with model_10_4.\n",
            "-----------------------------------------------------\n",
            "Loading data for model_10_5...\n",
            "P_matrices shape: (34996, 5, 5)\n",
            "m_heights shape: (34996, 5)\n",
            "Range of m_heights:\n",
            "Min: [   5.340439   45.804024  135.14496   346.75046  3788.6633  ]\n",
            "Max: [3.7719022e+02 1.4024301e+03 1.5339225e+04 6.0528188e+05 2.2121303e+09]\n",
            "\n",
            "Generating dataset for model_10_5...\n",
            "Range of log m_heights in training data:\n",
            "Min: [1.6753079 4.1079607 4.9063478 5.848605  8.239769 ]\n",
            "Max: [ 5.9327497  7.2459617  9.638168  13.31345   21.517221 ]\n",
            "Train dataset shape: (170076, 5, 5) (170076, 5)\n",
            "Validation dataset shape: (3150, 5, 5) (3150, 5)\n",
            "Test dataset shape: (3500, 5, 5) (3500, 5)\n",
            "\n",
            "Compiling model for model_10_5...\n",
            "Model compiled.\n",
            "\n",
            "Training model for model_10_5...\n",
            "\n",
            "Evaluating model for model_10_5...\n",
            "Train MSE : [6.601292133331299, 0.529483437538147, 0.5244017839431763, 0.5224037766456604, 0.5212169885635376, 0.5203642845153809, 0.5190742015838623, 0.5186377763748169, 0.5181048512458801, 0.5181031227111816, 0.5173023343086243, 0.5168861746788025, 0.5167673826217651, 0.5164705514907837, 0.5160937309265137, 0.5159283876419067, 0.5151506066322327, 0.5153241753578186, 0.5149169564247131, 0.5147581100463867, 0.5143662095069885, 0.5148363709449768, 0.5143609046936035]\n",
            "Validation MSE : [0.5463395118713379, 0.5369507074356079, 0.5334234237670898, 0.5348187685012817, 0.531105637550354, 0.5454657673835754, 0.5343776941299438, 0.5320018529891968, 0.531642735004425, 0.5326745510101318, 0.5321891903877258, 0.5289737582206726, 0.532002866268158, 0.5382850766181946, 0.5312528610229492, 0.528649628162384, 0.5330326557159424, 0.5299088358879089, 0.5307278633117676, 0.53136146068573, 0.5327377319335938, 0.5390580892562866, 0.5354440808296204]\n"
          ]
        },
        {
          "data": {
            "image/png": "[encoded data removed]",
            "text/plain": [
              "<Figure size 640x480 with 1 Axes>"
            ]
          },
          "metadata": {},
          "output_type": "display_data"
        },
        {
          "name": "stdout",
          "output_type": "stream",
          "text": [
            "\n",
            "Performance on test set for model_10_5:\n",
            "Best model loss : 0.5456448793411255\n",
            "\n",
            "Done with model_10_5.\n",
            "-----------------------------------------------------\n",
            "Loading data for model_10_6...\n",
            "P_matrices shape: (34993, 6, 4)\n",
            "m_heights shape: (34993, 4)\n",
            "Range of m_heights:\n",
            "Min: [  19.954166  121.08272   301.86646  2049.033   ]\n",
            "Max: [4.8236990e+02 8.1763545e+03 3.6380481e+05 1.4934546e+08]\n",
            "\n",
            "Generating dataset for model_10_6...\n",
            "Range of log m_heights in training data:\n",
            "Min: [2.993438 4.796474 5.709985 7.625123]\n",
            "Max: [ 6.1787114  9.009002  12.804373  18.821774 ]\n",
            "Train dataset shape: (170058, 6, 4) (170058, 4)\n",
            "Validation dataset shape: (3150, 6, 4) (3150, 4)\n",
            "Test dataset shape: (3500, 6, 4) (3500, 4)\n",
            "\n",
            "Compiling model for model_10_6...\n",
            "Model compiled.\n",
            "\n",
            "Training model for model_10_6...\n",
            "\n",
            "Evaluating model for model_10_6...\n",
            "Train MSE : [8.294920921325684, 0.5734747052192688, 0.5639321804046631, 0.559600293636322, 0.5565412044525146, 0.5554320812225342, 0.5536307096481323, 0.5520736575126648, 0.5513425469398499, 0.5499314069747925, 0.5492145419120789, 0.5486530065536499, 0.5477979183197021, 0.5471347570419312, 0.5467582941055298, 0.5466544032096863, 0.5457072257995605, 0.5456246137619019, 0.5443336963653564, 0.5441464185714722, 0.5439519882202148]\n",
            "Validation MSE : [0.5809330344200134, 0.5690337419509888, 0.5636655688285828, 0.5620409250259399, 0.566020131111145, 0.5647475123405457, 0.562188446521759, 0.5598132014274597, 0.559295654296875, 0.5633624196052551, 0.5623669028282166, 0.5611873269081116, 0.5609368681907654, 0.5577622056007385, 0.5705483555793762, 0.5585265159606934, 0.5606555938720703, 0.5626002550125122, 0.560581386089325, 0.560776948928833, 0.5677184462547302]\n"
          ]
        },
        {
          "data": {
            "image/png": "[encoded data removed]",
            "text/plain": [
              "<Figure size 640x480 with 1 Axes>"
            ]
          },
          "metadata": {},
          "output_type": "display_data"
        },
        {
          "name": "stdout",
          "output_type": "stream",
          "text": [
            "\n",
            "Performance on test set for model_10_6:\n",
            "Best model loss : 0.5645021200180054\n",
            "\n",
            "Done with model_10_6.\n",
            "-----------------------------------------------------\n"
          ]
        }
      ],
      "source": [
        "model_save_directory = \".\"\n",
        "val_split = 0.1\n",
        "test_split = 0.1\n",
        "num_permutations = 5\n",
        "batch_size = 256\n",
        "random_state = 4542\n",
        "epochs = 40\n",
        "patience = 7\n",
        "train_verbosity = 0\n",
        "for model_name, model_info in models_dict.items():\n",
        "    filepath = samples_filepath + model_info['file_name']\n",
        "    n = model_info['n']\n",
        "    k = model_info['k']\n",
        "    max_m_value = model_info['max_m_value']\n",
        "    model_info['model'] = CustomModel(n=n, k=k, max_m_value=max_m_value)\n",
        "    print(f\"Loading data for model_{n}_{k}...\")\n",
        "    model_info['model'].load_and_preprocess_data(filepath)\n",
        "    print(f\"\\nGenerating dataset for model_{n}_{k}...\")\n",
        "    model_info['model'].train_test_val_split(val_split=val_split, test_split=test_split, num_permutations=num_permutations, batch_size=batch_size, random_state=random_state)\n",
        "    print(f\"\\nCompiling model for model_{n}_{k}...\")\n",
        "    model_info['model'].model_compile(build_model, print_summary=False)\n",
        "    print(f\"\\nTraining model for model_{n}_{k}...\")\n",
        "    model_info['model'].model_train(epochs=epochs, verbose=train_verbosity, patience=patience, model_save_directory = model_save_directory)\n",
        "    print(f\"\\nEvaluating model for model_{n}_{k}...\")\n",
        "    model_info['model'].plot_history()\n",
        "    print(f\"\\nPerformance on test set for model_{n}_{k}:\")\n",
        "    model_info['model'].evaluate_model(batch_size=batch_size)\n",
        "    print(f\"\\nDone with model_{n}_{k}.\")\n",
        "    print(\"-----------------------------------------------------\")\n",
        "# Rejigging my test dataset to input to the evaluator\n",
        "eval_inputs_combined = {}\n",
        "eval_outputs_combined = {}\n",
        "\n",
        "for model_name, model_info in models_dict.items():\n",
        "    for key in model_info['model'].eval_inputs.keys():\n",
        "        if key not in eval_inputs_combined:\n",
        "            eval_inputs_combined[key] = []\n",
        "        eval_inputs_combined[key].extend(model_info['model'].eval_inputs[key])\n",
        "    for key in model_info['model'].eval_outputs.keys():\n",
        "        if key not in eval_outputs_combined:\n",
        "            eval_outputs_combined[key] = []\n",
        "        eval_outputs_combined[key].extend(model_info['model'].eval_outputs[key])\n",
        "\n",
        "with gzip.open(model_save_directory+'/eval_inputs_combined', 'wb') as f:\n",
        "            pickle.dump(eval_inputs_combined, f)\n",
        "with gzip.open(model_save_directory+'/eval_outputs_combined', 'wb') as f:\n",
        "            pickle.dump(eval_outputs_combined, f)\n",
        "\n"
      ]
    },
    {
      "cell_type": "markdown",
      "id": "Qyl3ASl0v3RA",
      "metadata": {
        "id": "Qyl3ASl0v3RA"
      },
      "source": [
        "Testing using the evaluator framework"
      ]
    },
    {
      "cell_type": "code",
      "execution_count": 11,
      "id": "tDXQPfnbv8EK",
      "metadata": {
        "colab": {
          "base_uri": "https://localhost:8080/"
        },
        "id": "tDXQPfnbv8EK",
        "outputId": "606fba3b-dc2e-44b8-850c-36e372b69112"
      },
      "outputs": [
        {
          "name": "stdout",
          "output_type": "stream",
          "text": [
            "Collecting tamu_csce_636_project1\n",
            "  Downloading tamu_csce_636_project1-0.0.7-py3-none-any.whl.metadata (1.5 kB)\n",
            "Downloading tamu_csce_636_project1-0.0.7-py3-none-any.whl (14 kB)\n",
            "Installing collected packages: tamu_csce_636_project1\n",
            "Successfully installed tamu_csce_636_project1-0.0.7\n"
          ]
        }
      ],
      "source": [
        "!pip install tamu_csce_636_project1"
      ]
    },
    {
      "cell_type": "code",
      "execution_count": 7,
      "id": "cP8x6KVav_W5",
      "metadata": {
        "id": "cP8x6KVav_W5"
      },
      "outputs": [],
      "source": [
        "from tamu_csce_636_project1 import Evaluator\n",
        "evaluator = Evaluator(\n",
        "    first_name=\"Your Name\",\n",
        "    last_name=\"Your Name\",\n",
        "    email=\"email@tamu.edu\",\n",
        "    print=False,\n",
        ")"
      ]
    },
    {
      "cell_type": "code",
      "execution_count": 2,
      "id": "L_M5QI-owBas",
      "metadata": {
        "id": "L_M5QI-owBas"
      },
      "outputs": [],
      "source": [
        "def predict_and_evaluate(n,k,m,P_matrices):\n",
        "    ## load model\n",
        "    model_name = f'model_{n}_{k}.keras'\n",
        "    model = tf.keras.models.load_model(model_name)\n",
        "    m_heights = []\n",
        "    P_matrices = np.array(P_matrices, dtype=np.float32)\n",
        "    m_heights_pred = model.predict(P_matrices.reshape(len(P_matrices), k, n-k), verbose=0)\n",
        "    m_heights =[np.exp(m_heights_pred[i][m-1]) for i in range(len(P_matrices))]\n",
        "    return m_heights"
      ]
    },
    {
      "cell_type": "code",
      "execution_count": 16,
      "id": "XoEABz83wHDE",
      "metadata": {
        "colab": {
          "base_uri": "https://localhost:8080/"
        },
        "id": "XoEABz83wHDE",
        "outputId": "c8e4fee6-e200-45c7-edb9-4e72b3c97e32"
      },
      "outputs": [
        {
          "name": "stdout",
          "output_type": "stream",
          "text": [
            "model_10_4.keras  model_10_6.keras  model_9_5.keras\n",
            "model_10_5.keras  model_9_4.keras   model_9_6.keras\n"
          ]
        }
      ],
      "source": [
        "!ls *.keras"
      ]
    },
    {
      "cell_type": "code",
      "execution_count": 15,
      "id": "gVB-Sv_GwJyA",
      "metadata": {
        "colab": {
          "base_uri": "https://localhost:8080/"
        },
        "id": "gVB-Sv_GwJyA",
        "outputId": "9dda5fb9-57a3-43d4-c398-6fd4b54f1a98"
      },
      "outputs": [
        {
          "name": "stdout",
          "output_type": "stream",
          "text": [
            "Average σ: 1.3191069255997578\n",
            "(9, 4, 2), σ: 0.19257759396244892\n",
            "(9, 4, 3), σ: 0.23654794669520127\n",
            "(9, 4, 4), σ: 0.8287748458802048\n",
            "(9, 4, 5), σ: 3.21858856430203\n",
            "(9, 5, 2), σ: 0.2258321428314255\n",
            "(9, 5, 3), σ: 0.7917963745291468\n",
            "(9, 5, 4), σ: 3.40777544025823\n",
            "(9, 6, 2), σ: 0.5275553278818856\n",
            "(9, 6, 3), σ: 3.195237988734329\n",
            "(10, 4, 2), σ: 0.8622887550641651\n",
            "(10, 4, 3), σ: 0.09877091627186581\n",
            "(10, 4, 4), σ: 0.26657844190349617\n",
            "(10, 4, 5), σ: 0.9087587619962072\n",
            "(10, 4, 6), σ: 3.4365835667935136\n",
            "(10, 5, 2), σ: 0.12035170290111862\n",
            "(10, 5, 3), σ: 0.3204983237806195\n",
            "(10, 5, 4), σ: 0.8837275020322419\n",
            "(10, 5, 5), σ: 3.6440490500348792\n",
            "(10, 6, 2), σ: 0.22821722855585624\n",
            "(10, 6, 3), σ: 0.8270504646344283\n",
            "(10, 6, 4), σ: 3.479684498551624\n"
          ]
        }
      ],
      "source": [
        "with gzip.open('eval_inputs_combined', 'rb') as f:\n",
        "    eval_inputs_combined = pickle.load(f)\n",
        "with gzip.open('eval_outputs_combined', 'rb') as f:\n",
        "    eval_outputs_combined = pickle.load(f)\n",
        "σ = evaluator.eval(\n",
        "        inputs=eval_inputs_combined,\n",
        "        outputs=eval_outputs_combined,\n",
        "        func=predict_and_evaluate,\n",
        "    )\n",
        "average_σ = sum(σ.values()) / len(σ) if σ else 0\n",
        "print(f\"Average σ: {average_σ}\")\n",
        "for key, value in σ.items():\n",
        "    print(f\"{key}, σ: {value}\")"
      ]
    },
    {
      "cell_type": "markdown",
      "id": "w1EEjxHgwrUC",
      "metadata": {
        "id": "w1EEjxHgwrUC"
      },
      "source": [
        "##3. Submission\n"
      ]
    },
    {
      "cell_type": "markdown",
      "id": "T1p7DzFtw1Yt",
      "metadata": {
        "id": "T1p7DzFtw1Yt"
      },
      "source": [
        "Packages used"
      ]
    },
    {
      "cell_type": "code",
      "execution_count": null,
      "id": "i3veM6oHw3pl",
      "metadata": {
        "id": "i3veM6oHw3pl"
      },
      "outputs": [],
      "source": [
        "# To solve LPs\n",
        "import numpy as np\n",
        "import math\n",
        "import pickle\n",
        "import gzip\n",
        "import os\n",
        "import sys\n",
        "from concurrent.futures import ProcessPoolExecutor\n",
        "from itertools import combinations, product\n",
        "from ortools.linear_solver import pywraplp\n",
        "import time\n",
        "\n",
        "#Training\n",
        "import tensorflow as tf\n",
        "from tensorflow.keras import layers, models\n",
        "import numpy as np\n",
        "import pickle\n",
        "import gzip\n",
        "from sklearn.model_selection import train_test_split\n",
        "import matplotlib.pyplot as plt"
      ]
    },
    {
      "cell_type": "markdown",
      "id": "5zTJcrHOxx4E",
      "metadata": {
        "id": "5zTJcrHOxx4E"
      },
      "source": [
        "Function to generate m_heights for a list of P_matrices for a given n,k,m combination"
      ]
    },
    {
      "cell_type": "code",
      "execution_count": 3,
      "id": "-3P6Zms5xxgI",
      "metadata": {
        "id": "-3P6Zms5xxgI"
      },
      "outputs": [],
      "source": [
        "def predict_and_evaluate(n,k,m,P_matrices):\n",
        "    ## load model\n",
        "    model_name = f'model_{n}_{k}.keras'\n",
        "    model = tf.keras.models.load_model(model_name)\n",
        "    m_heights = []\n",
        "    P_matrices = np.array(P_matrices, dtype=np.float32)\n",
        "    m_heights_pred = model.predict(P_matrices.reshape(len(P_matrices), k, n-k), verbose=0)\n",
        "    # Pick the m-height from th elist of all m-heights predicted for each P\n",
        "    m_heights =[np.exp(m_heights_pred[i][m-1]) for i in range(len(P_matrices))]\n",
        "    return m_heights"
      ]
    }
  ],
  "metadata": {
    "accelerator": "GPU",
    "colab": {
      "gpuType": "A100",
      "machine_shape": "hm",
      "provenance": []
    },
    "kernelspec": {
      "display_name": "Python 3 (ipykernel)",
      "language": "python",
      "name": "python3"
    }
  },
  "nbformat": 4,
  "nbformat_minor": 5
}
