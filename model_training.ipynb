{
 "cells": [
  {
   "cell_type": "code",
   "execution_count": 1,
   "id": "b0ccc6d2",
   "metadata": {},
   "outputs": [
    {
     "name": "stderr",
     "output_type": "stream",
     "text": [
      "2025-04-04 23:13:06.048125: E external/local_xla/xla/stream_executor/cuda/cuda_fft.cc:467] Unable to register cuFFT factory: Attempting to register factory for plugin cuFFT when one has already been registered\n",
      "WARNING: All log messages before absl::InitializeLog() is called are written to STDERR\n",
      "E0000 00:00:1743826386.093492   10336 cuda_dnn.cc:8579] Unable to register cuDNN factory: Attempting to register factory for plugin cuDNN when one has already been registered\n",
      "E0000 00:00:1743826386.104037   10336 cuda_blas.cc:1407] Unable to register cuBLAS factory: Attempting to register factory for plugin cuBLAS when one has already been registered\n",
      "W0000 00:00:1743826386.147678   10336 computation_placer.cc:177] computation placer already registered. Please check linkage and avoid linking the same target more than once.\n",
      "W0000 00:00:1743826386.147701   10336 computation_placer.cc:177] computation placer already registered. Please check linkage and avoid linking the same target more than once.\n",
      "W0000 00:00:1743826386.147703   10336 computation_placer.cc:177] computation placer already registered. Please check linkage and avoid linking the same target more than once.\n",
      "W0000 00:00:1743826386.147705   10336 computation_placer.cc:177] computation placer already registered. Please check linkage and avoid linking the same target more than once.\n",
      "2025-04-04 23:13:06.157084: I tensorflow/core/platform/cpu_feature_guard.cc:210] This TensorFlow binary is optimized to use available CPU instructions in performance-critical operations.\n",
      "To enable the following instructions: AVX2 FMA, in other operations, rebuild TensorFlow with the appropriate compiler flags.\n"
     ]
    }
   ],
   "source": [
    "import tensorflow as tf\n",
    "from tensorflow.keras import layers, models\n",
    "\n",
    "def build_model(n, k, max_m_value):\n",
    "    input_shape = (k, n - k)  \n",
    "    \n",
    "    # Input layer\n",
    "    input_layer = layers.Input(shape=input_shape)\n",
    "\n",
    "    # Transpose so we can treat each column independently\n",
    "    # After transpose: shape becomes (batch_size, n-k, k)\n",
    "    transposed = layers.Permute((2, 1))(input_layer)  \n",
    "\n",
    "    # Shared MLP applied to each column (like DeepSets)\n",
    "    shared_mlp = tf.keras.Sequential([\n",
    "        layers.Dense(64, activation='relu'),\n",
    "        layers.Dense(64, activation='relu')\n",
    "    ])\n",
    "\n",
    "    # Apply shared MLP to each column (TimeDistributed over n-k columns)\n",
    "    encoded_columns = layers.TimeDistributed(shared_mlp)(transposed)  # (batch, n-k, 64)\n",
    "\n",
    "    # Aggregate over columns to achieve permutation invariance\n",
    "    aggregated = layers.GlobalAveragePooling1D()(encoded_columns)  # (batch, 64)\n",
    "\n",
    "    # Final prediction head\n",
    "    output_layer = layers.Dense(max_m_value, activation='linear')(aggregated)\n",
    "\n",
    "    model = models.Model(inputs=input_layer, outputs=output_layer)\n",
    "    model.compile(optimizer='adam', loss='mse')\n",
    "\n",
    "    return model"
   ]
  },
  {
   "cell_type": "code",
   "execution_count": 2,
   "id": "5d9640c0",
   "metadata": {},
   "outputs": [],
   "source": [
    "import numpy as np\n",
    "import pickle\n",
    "import gzip\n",
    "from sklearn.model_selection import train_test_split\n",
    "import matplotlib.pyplot as plt"
   ]
  },
  {
   "cell_type": "code",
   "execution_count": 14,
   "id": "dba7ed38",
   "metadata": {},
   "outputs": [],
   "source": [
    "class CustomModel:\n",
    "    def __init__(self, n, k, max_m_value):\n",
    "        self.n = n\n",
    "        self.k = k\n",
    "        self.max_m_value = max_m_value\n",
    "\n",
    "        self.P_matrices = None\n",
    "        self.m_heights = None\n",
    "        self.P_matrices_train = None \n",
    "        self.P_matrices_test = None \n",
    "        self.P_matrices_val = None\n",
    "        self.m_heights_train = None \n",
    "        self.m_heights_test = None\n",
    "        self.m_heights_log_train = None\n",
    "        self.m_heights_log_test = None   \n",
    "        self.m_heights_log_val = None\n",
    "        self.eval_inputs = None\n",
    "        self.eval_outputs = None\n",
    "        self.P_matrices_train_aug = None\n",
    "        self.m_heights_log_train_aug = None\n",
    "\n",
    "        self.train_dataset = None\n",
    "        self.val_dataset = None\n",
    "\n",
    "        self.model_name = f'model_{n}_{k}.keras'\n",
    "        self.model = None\n",
    "        self.history = None\n",
    "    def load_and_preprocess_data(self,filepath):\n",
    "        with gzip.open(filepath, 'rb') as f:\n",
    "            dataset = pickle.load(f)\n",
    "\n",
    "        self.P_matrices = []\n",
    "        self.m_heights = []\n",
    "\n",
    "        for row in dataset:\n",
    "            # Remove the last `inf`, this is an error due to bug in the dataset generation\n",
    "            heights = row['m_heights'][:-1]  \n",
    "            if len(heights) != self.max_m_value:\n",
    "                continue\n",
    "            if any(h == float('inf') or h <= 0 for h in heights):\n",
    "                continue\n",
    "            # Convert m-heights to log scale\n",
    "            log_heights = np.log(heights)\n",
    "            P_matrix = np.array(row['P_matrix'], dtype=np.float32)\n",
    "\n",
    "            self.P_matrices.append(P_matrix)\n",
    "            # m_heights.append(log_heights)\n",
    "            self.m_heights.append(heights)\n",
    "        self.P_matrices = np.array(self.P_matrices, dtype=np.float32)\n",
    "        self.m_heights = np.array(self.m_heights, dtype=np.float32)\n",
    "        print(\"P_matrices shape:\", self.P_matrices.shape)\n",
    "        print(\"m_heights shape:\", self.m_heights.shape)\n",
    "        # pritnt range of all m-heights \n",
    "        print(\"Range of log m_heights:\")\n",
    "        print(\"Min:\", np.min(self.m_heights, axis=0))\n",
    "        print(\"Max:\", np.max(self.m_heights, axis=0))\n",
    "            \n",
    "    def generate_permuted_dataset(self, P_matrices, m_heights, num_permutations=3):\n",
    "        \"\"\"Create augmented dataset by permuting columns of P_matrices.\"\"\"\n",
    "        augmented_P_matrices = []\n",
    "        augmented_m_heights = []\n",
    "\n",
    "        for i in range(len(P_matrices)):\n",
    "            original = P_matrices[i]\n",
    "            target = m_heights[i]\n",
    "\n",
    "            # Keep original\n",
    "            augmented_P_matrices.append(original)\n",
    "            augmented_m_heights.append(target)\n",
    "\n",
    "            # Generate random permutations\n",
    "            for _ in range(num_permutations):\n",
    "                permuted = original[:, np.random.permutation(original.shape[1])]\n",
    "                augmented_P_matrices.append(permuted)\n",
    "                augmented_m_heights.append(target)\n",
    "        return np.array(augmented_P_matrices), np.array(augmented_m_heights)\n",
    "    def train_test_val_split(self, val_split=0.2, test_split=0.2, num_permutations=4, batch_size=128, random_state=2342):\n",
    "        \n",
    "        if(self.P_matrices is None or self.m_heights is None):\n",
    "            raise ValueError(\"Data not loaded. Please load the data first.\")\n",
    "        # Train-test split\n",
    "        self.P_matrices_train, self.P_matrices_test,\\\n",
    "              self.m_heights_train, self.m_heights_test\\\n",
    "                 = train_test_split(self.P_matrices, self.m_heights, test_size=test_split, random_state=random_state)\n",
    "\n",
    "        # Converting test set to evaluator format\n",
    "        self.eval_inputs = {}\n",
    "        self.eval_outputs = {}\n",
    "\n",
    "        # Iterate through each P_matrix and corresponding m_heights in test_dataset\n",
    "        for i in range(len(self.P_matrices_test)):\n",
    "            P_matrix = self.P_matrices_test[i]\n",
    "            m_heights_list = self.m_heights_test[i]\n",
    "            for m in range(2, self.max_m_value + 1):  # m ranges from 2 to max_m_value\n",
    "                key = f\"[{self.n},{self.k},{m}]\"\n",
    "                \n",
    "                # Add the P_matrix to the inputs dictionary\n",
    "                if key not in self.eval_inputs:\n",
    "                    self.eval_inputs[key] = []\n",
    "                self.eval_inputs[key].append(P_matrix)\n",
    "                \n",
    "                # Add the corresponding m_height to the outputs dictionary\n",
    "                if key not in self.eval_outputs:\n",
    "                    self.eval_outputs[key] = []\n",
    "                self.eval_outputs[key].append(m_heights_list[m - 1])  # m-1 to get the correct index\n",
    "\n",
    "        # Change m_heights_train and m_heights_test to log_scale\n",
    "        self.m_heights_log_train = np.log(self.m_heights_train)\n",
    "        self.m_heights_log_test = np.log(self.m_heights_test)\n",
    "\n",
    "        # Train-validation split\n",
    "        self.P_matrices_train, self.P_matrices_val, self.m_heights_log_train, self.m_heights_log_val = train_test_split(self.P_matrices_train, self.m_heights_log_train, test_size=val_split, random_state=random_state)\n",
    "        # Generate augmented  training dataset\n",
    "        self.P_matrices_train_aug, self.m_heights_log_train_aug = self.generate_permuted_dataset(self.P_matrices_train, self.m_heights_log_train, num_permutations=num_permutations) \n",
    "        # Create TensorFlow datasets\n",
    "        self.train_dataset = tf.data.Dataset.from_tensor_slices((self.P_matrices_train_aug, self.m_heights_log_train_aug))\n",
    "        self.train_dataset = self.train_dataset.shuffle(self.P_matrices_train_aug.shape[0]).batch(batch_size).prefetch(tf.data.AUTOTUNE)\n",
    "\n",
    "        self.val_dataset = tf.data.Dataset.from_tensor_slices((self.P_matrices_val, self.m_heights_log_val))\n",
    "        self.val_dataset = self.val_dataset.shuffle(self.P_matrices_val.shape[0]).batch(batch_size).prefetch(tf.data.AUTOTUNE)\n",
    "        print(\"Train dataset shape:\", self.P_matrices_train_aug.shape, self.m_heights_log_train_aug.shape)\n",
    "        print(\"Validation dataset shape:\", self.P_matrices_val.shape, self.m_heights_log_val.shape)\n",
    "        print(\"Test dataset shape:\", self.P_matrices_test.shape, self.m_heights_log_test.shape)\n",
    "    \n",
    "    def model_compile(self, build_model, print_summary=False):\n",
    "        if self.train_dataset is None or self.val_dataset is None:\n",
    "            raise ValueError(\"Train and validation datasets not created. Please create them first.\")\n",
    "        self.model = build_model(self.n, self.k, self.max_m_value)\n",
    "        print(\"Model compiled.\")\n",
    "        if print_summary:\n",
    "            self.model.summary()\n",
    "    \n",
    "    def model_train(self, epochs=10, verbose=0, patience=5):\n",
    "        if self.model is None:\n",
    "            raise ValueError(\"Model not built. Please build the model first.\")\n",
    "        \n",
    "        # Early stopping callback\n",
    "        early_stopping = tf.keras.callbacks.EarlyStopping(monitor='val_loss', patience=patience, restore_best_weights=True)\n",
    "        model_checkpoint = tf.keras.callbacks.ModelCheckpoint(self.model_name, save_best_only=True)\n",
    "        # Train the model\n",
    "        self.history = self.model.fit(\n",
    "            self.train_dataset,\n",
    "            validation_data=self.val_dataset,\n",
    "            epochs=epochs,\n",
    "            callbacks=[\n",
    "                early_stopping,\n",
    "                model_checkpoint,\n",
    "            ],\n",
    "            verbose=verbose\n",
    "        )\n",
    "    def plot_history(self):\n",
    "        if self.history is None:\n",
    "            raise ValueError(\"Model not trained. Train the model first.\")\n",
    "        history_dict = self.history.history\n",
    "        mse = history_dict[\"loss\"]\n",
    "        val_mse = history_dict[\"val_loss\"]\n",
    "        epochs = range(1, len(mse) + 1)\n",
    "        print('Train MSE :', mse)\n",
    "        print('Validation MSE :', val_mse)\n",
    "        plt.plot(epochs, mse, \"bo\", label=\"Training mse\")\n",
    "        plt.plot(epochs, val_mse, \"b\", label=\"Validation mse\")\n",
    "        plt.title(\"Training and validation mean squared error\")\n",
    "        plt.xlabel(\"Epochs\")\n",
    "        plt.ylabel(\"MSE\")\n",
    "        plt.legend()\n",
    "        plt.show()\n",
    "    def evaluate_model(self, batch_size=128):\n",
    "        if self.history is None:\n",
    "            raise ValueError(\"Model not trained. Train the model first.\")\n",
    "        results = self.model.evaluate(self.P_matrices_test, self.m_heights_log_test, batch_size=batch_size, verbose=0)\n",
    "        print('Best model loss :', results)\n",
    "    "
   ]
  },
  {
   "cell_type": "code",
   "execution_count": 41,
   "id": "b15fe337",
   "metadata": {},
   "outputs": [
    {
     "name": "stdout",
     "output_type": "stream",
     "text": [
      "P_matrices shape: (34999, 4, 5)\n",
      "m_heights shape: (34999, 5)\n",
      "Range of log m_heights:\n",
      "Min: [   3.3710756    8.660064    75.08341    182.32542   1253.2301   ]\n",
      "Max: [2.7675543e+02 7.5315314e+02 4.8695015e+03 2.2775238e+05 7.9118080e+08]\n"
     ]
    }
   ],
   "source": [
    "filepath= \"/mnt/d/MS/deep_learning/m_height_prediction/samples_combined/G_9_4_maxM5.pklgz\"\n",
    "model_9_4 = CustomModel(n=9, k=4, max_m_value=5)\n",
    "model_9_4.load_and_preprocess_data(filepath)"
   ]
  },
  {
   "cell_type": "code",
   "execution_count": 42,
   "id": "3fe3cf27",
   "metadata": {},
   "outputs": [
    {
     "name": "stdout",
     "output_type": "stream",
     "text": [
      "Train dataset shape: (111995, 4, 5) (111995, 5)\n",
      "Validation dataset shape: (5600, 4, 5) (5600, 5)\n",
      "Test dataset shape: (7000, 4, 5) (7000, 5)\n"
     ]
    }
   ],
   "source": [
    "model_9_4.train_test_val_split(val_split=0.2, test_split=0.2, num_permutations=4, batch_size=128, random_state=2342)"
   ]
  },
  {
   "cell_type": "code",
   "execution_count": 43,
   "id": "b8d9fc28",
   "metadata": {},
   "outputs": [
    {
     "name": "stdout",
     "output_type": "stream",
     "text": [
      "Model compiled.\n"
     ]
    },
    {
     "data": {
      "text/html": [
       "<pre style=\"white-space:pre;overflow-x:auto;line-height:normal;font-family:Menlo,'DejaVu Sans Mono',consolas,'Courier New',monospace\"><span style=\"font-weight: bold\">Model: \"functional_15\"</span>\n",
       "</pre>\n"
      ],
      "text/plain": [
       "\u001b[1mModel: \"functional_15\"\u001b[0m\n"
      ]
     },
     "metadata": {},
     "output_type": "display_data"
    },
    {
     "data": {
      "text/html": [
       "<pre style=\"white-space:pre;overflow-x:auto;line-height:normal;font-family:Menlo,'DejaVu Sans Mono',consolas,'Courier New',monospace\">┏━━━━━━━━━━━━━━━━━━━━━━━━━━━━━━━━━┳━━━━━━━━━━━━━━━━━━━━━━━━┳━━━━━━━━━━━━━━━┓\n",
       "┃<span style=\"font-weight: bold\"> Layer (type)                    </span>┃<span style=\"font-weight: bold\"> Output Shape           </span>┃<span style=\"font-weight: bold\">       Param # </span>┃\n",
       "┡━━━━━━━━━━━━━━━━━━━━━━━━━━━━━━━━━╇━━━━━━━━━━━━━━━━━━━━━━━━╇━━━━━━━━━━━━━━━┩\n",
       "│ input_layer_6 (<span style=\"color: #0087ff; text-decoration-color: #0087ff\">InputLayer</span>)      │ (<span style=\"color: #00d7ff; text-decoration-color: #00d7ff\">None</span>, <span style=\"color: #00af00; text-decoration-color: #00af00\">4</span>, <span style=\"color: #00af00; text-decoration-color: #00af00\">5</span>)           │             <span style=\"color: #00af00; text-decoration-color: #00af00\">0</span> │\n",
       "├─────────────────────────────────┼────────────────────────┼───────────────┤\n",
       "│ permute_3 (<span style=\"color: #0087ff; text-decoration-color: #0087ff\">Permute</span>)             │ (<span style=\"color: #00d7ff; text-decoration-color: #00d7ff\">None</span>, <span style=\"color: #00af00; text-decoration-color: #00af00\">5</span>, <span style=\"color: #00af00; text-decoration-color: #00af00\">4</span>)           │             <span style=\"color: #00af00; text-decoration-color: #00af00\">0</span> │\n",
       "├─────────────────────────────────┼────────────────────────┼───────────────┤\n",
       "│ time_distributed_3              │ (<span style=\"color: #00d7ff; text-decoration-color: #00d7ff\">None</span>, <span style=\"color: #00af00; text-decoration-color: #00af00\">5</span>, <span style=\"color: #00af00; text-decoration-color: #00af00\">64</span>)          │         <span style=\"color: #00af00; text-decoration-color: #00af00\">4,480</span> │\n",
       "│ (<span style=\"color: #0087ff; text-decoration-color: #0087ff\">TimeDistributed</span>)               │                        │               │\n",
       "├─────────────────────────────────┼────────────────────────┼───────────────┤\n",
       "│ global_average_pooling1d_3      │ (<span style=\"color: #00d7ff; text-decoration-color: #00d7ff\">None</span>, <span style=\"color: #00af00; text-decoration-color: #00af00\">64</span>)             │             <span style=\"color: #00af00; text-decoration-color: #00af00\">0</span> │\n",
       "│ (<span style=\"color: #0087ff; text-decoration-color: #0087ff\">GlobalAveragePooling1D</span>)        │                        │               │\n",
       "├─────────────────────────────────┼────────────────────────┼───────────────┤\n",
       "│ dense_11 (<span style=\"color: #0087ff; text-decoration-color: #0087ff\">Dense</span>)                │ (<span style=\"color: #00d7ff; text-decoration-color: #00d7ff\">None</span>, <span style=\"color: #00af00; text-decoration-color: #00af00\">5</span>)              │           <span style=\"color: #00af00; text-decoration-color: #00af00\">325</span> │\n",
       "└─────────────────────────────────┴────────────────────────┴───────────────┘\n",
       "</pre>\n"
      ],
      "text/plain": [
       "┏━━━━━━━━━━━━━━━━━━━━━━━━━━━━━━━━━┳━━━━━━━━━━━━━━━━━━━━━━━━┳━━━━━━━━━━━━━━━┓\n",
       "┃\u001b[1m \u001b[0m\u001b[1mLayer (type)                   \u001b[0m\u001b[1m \u001b[0m┃\u001b[1m \u001b[0m\u001b[1mOutput Shape          \u001b[0m\u001b[1m \u001b[0m┃\u001b[1m \u001b[0m\u001b[1m      Param #\u001b[0m\u001b[1m \u001b[0m┃\n",
       "┡━━━━━━━━━━━━━━━━━━━━━━━━━━━━━━━━━╇━━━━━━━━━━━━━━━━━━━━━━━━╇━━━━━━━━━━━━━━━┩\n",
       "│ input_layer_6 (\u001b[38;5;33mInputLayer\u001b[0m)      │ (\u001b[38;5;45mNone\u001b[0m, \u001b[38;5;34m4\u001b[0m, \u001b[38;5;34m5\u001b[0m)           │             \u001b[38;5;34m0\u001b[0m │\n",
       "├─────────────────────────────────┼────────────────────────┼───────────────┤\n",
       "│ permute_3 (\u001b[38;5;33mPermute\u001b[0m)             │ (\u001b[38;5;45mNone\u001b[0m, \u001b[38;5;34m5\u001b[0m, \u001b[38;5;34m4\u001b[0m)           │             \u001b[38;5;34m0\u001b[0m │\n",
       "├─────────────────────────────────┼────────────────────────┼───────────────┤\n",
       "│ time_distributed_3              │ (\u001b[38;5;45mNone\u001b[0m, \u001b[38;5;34m5\u001b[0m, \u001b[38;5;34m64\u001b[0m)          │         \u001b[38;5;34m4,480\u001b[0m │\n",
       "│ (\u001b[38;5;33mTimeDistributed\u001b[0m)               │                        │               │\n",
       "├─────────────────────────────────┼────────────────────────┼───────────────┤\n",
       "│ global_average_pooling1d_3      │ (\u001b[38;5;45mNone\u001b[0m, \u001b[38;5;34m64\u001b[0m)             │             \u001b[38;5;34m0\u001b[0m │\n",
       "│ (\u001b[38;5;33mGlobalAveragePooling1D\u001b[0m)        │                        │               │\n",
       "├─────────────────────────────────┼────────────────────────┼───────────────┤\n",
       "│ dense_11 (\u001b[38;5;33mDense\u001b[0m)                │ (\u001b[38;5;45mNone\u001b[0m, \u001b[38;5;34m5\u001b[0m)              │           \u001b[38;5;34m325\u001b[0m │\n",
       "└─────────────────────────────────┴────────────────────────┴───────────────┘\n"
      ]
     },
     "metadata": {},
     "output_type": "display_data"
    },
    {
     "data": {
      "text/html": [
       "<pre style=\"white-space:pre;overflow-x:auto;line-height:normal;font-family:Menlo,'DejaVu Sans Mono',consolas,'Courier New',monospace\"><span style=\"font-weight: bold\"> Total params: </span><span style=\"color: #00af00; text-decoration-color: #00af00\">4,805</span> (18.77 KB)\n",
       "</pre>\n"
      ],
      "text/plain": [
       "\u001b[1m Total params: \u001b[0m\u001b[38;5;34m4,805\u001b[0m (18.77 KB)\n"
      ]
     },
     "metadata": {},
     "output_type": "display_data"
    },
    {
     "data": {
      "text/html": [
       "<pre style=\"white-space:pre;overflow-x:auto;line-height:normal;font-family:Menlo,'DejaVu Sans Mono',consolas,'Courier New',monospace\"><span style=\"font-weight: bold\"> Trainable params: </span><span style=\"color: #00af00; text-decoration-color: #00af00\">4,805</span> (18.77 KB)\n",
       "</pre>\n"
      ],
      "text/plain": [
       "\u001b[1m Trainable params: \u001b[0m\u001b[38;5;34m4,805\u001b[0m (18.77 KB)\n"
      ]
     },
     "metadata": {},
     "output_type": "display_data"
    },
    {
     "data": {
      "text/html": [
       "<pre style=\"white-space:pre;overflow-x:auto;line-height:normal;font-family:Menlo,'DejaVu Sans Mono',consolas,'Courier New',monospace\"><span style=\"font-weight: bold\"> Non-trainable params: </span><span style=\"color: #00af00; text-decoration-color: #00af00\">0</span> (0.00 B)\n",
       "</pre>\n"
      ],
      "text/plain": [
       "\u001b[1m Non-trainable params: \u001b[0m\u001b[38;5;34m0\u001b[0m (0.00 B)\n"
      ]
     },
     "metadata": {},
     "output_type": "display_data"
    }
   ],
   "source": [
    "model_9_4.model_compile(build_model, print_summary=True)"
   ]
  },
  {
   "cell_type": "code",
   "execution_count": 45,
   "id": "0ac3cb36",
   "metadata": {},
   "outputs": [
    {
     "name": "stdout",
     "output_type": "stream",
     "text": [
      "Epoch 1/30\n",
      "\u001b[1m875/875\u001b[0m \u001b[32m━━━━━━━━━━━━━━━━━━━━\u001b[0m\u001b[37m\u001b[0m \u001b[1m8s\u001b[0m 6ms/step - loss: 7.4650 - val_loss: 1.0088\n",
      "Epoch 2/30\n",
      "\u001b[1m875/875\u001b[0m \u001b[32m━━━━━━━━━━━━━━━━━━━━\u001b[0m\u001b[37m\u001b[0m \u001b[1m5s\u001b[0m 5ms/step - loss: 0.9628 - val_loss: 0.9000\n",
      "Epoch 3/30\n",
      "\u001b[1m875/875\u001b[0m \u001b[32m━━━━━━━━━━━━━━━━━━━━\u001b[0m\u001b[37m\u001b[0m \u001b[1m4s\u001b[0m 5ms/step - loss: 0.8594 - val_loss: 0.7958\n",
      "Epoch 4/30\n",
      "\u001b[1m875/875\u001b[0m \u001b[32m━━━━━━━━━━━━━━━━━━━━\u001b[0m\u001b[37m\u001b[0m \u001b[1m5s\u001b[0m 6ms/step - loss: 0.7709 - val_loss: 0.7157\n",
      "Epoch 5/30\n",
      "\u001b[1m875/875\u001b[0m \u001b[32m━━━━━━━━━━━━━━━━━━━━\u001b[0m\u001b[37m\u001b[0m \u001b[1m4s\u001b[0m 4ms/step - loss: 0.6998 - val_loss: 0.6625\n",
      "Epoch 6/30\n",
      "\u001b[1m875/875\u001b[0m \u001b[32m━━━━━━━━━━━━━━━━━━━━\u001b[0m\u001b[37m\u001b[0m \u001b[1m5s\u001b[0m 5ms/step - loss: 0.6544 - val_loss: 0.6283\n",
      "Epoch 7/30\n",
      "\u001b[1m875/875\u001b[0m \u001b[32m━━━━━━━━━━━━━━━━━━━━\u001b[0m\u001b[37m\u001b[0m \u001b[1m5s\u001b[0m 5ms/step - loss: 0.6296 - val_loss: 0.6522\n",
      "Epoch 8/30\n",
      "\u001b[1m875/875\u001b[0m \u001b[32m━━━━━━━━━━━━━━━━━━━━\u001b[0m\u001b[37m\u001b[0m \u001b[1m4s\u001b[0m 5ms/step - loss: 0.6188 - val_loss: 0.6227\n",
      "Epoch 9/30\n",
      "\u001b[1m875/875\u001b[0m \u001b[32m━━━━━━━━━━━━━━━━━━━━\u001b[0m\u001b[37m\u001b[0m \u001b[1m5s\u001b[0m 5ms/step - loss: 0.6202 - val_loss: 0.6204\n",
      "Epoch 10/30\n",
      "\u001b[1m875/875\u001b[0m \u001b[32m━━━━━━━━━━━━━━━━━━━━\u001b[0m\u001b[37m\u001b[0m \u001b[1m4s\u001b[0m 5ms/step - loss: 0.6072 - val_loss: 0.6082\n",
      "Epoch 11/30\n",
      "\u001b[1m875/875\u001b[0m \u001b[32m━━━━━━━━━━━━━━━━━━━━\u001b[0m\u001b[37m\u001b[0m \u001b[1m4s\u001b[0m 5ms/step - loss: 0.6092 - val_loss: 0.6556\n",
      "Epoch 12/30\n",
      "\u001b[1m875/875\u001b[0m \u001b[32m━━━━━━━━━━━━━━━━━━━━\u001b[0m\u001b[37m\u001b[0m \u001b[1m4s\u001b[0m 5ms/step - loss: 0.6077 - val_loss: 0.6017\n",
      "Epoch 13/30\n",
      "\u001b[1m875/875\u001b[0m \u001b[32m━━━━━━━━━━━━━━━━━━━━\u001b[0m\u001b[37m\u001b[0m \u001b[1m4s\u001b[0m 5ms/step - loss: 0.6014 - val_loss: 0.6120\n",
      "Epoch 14/30\n",
      "\u001b[1m875/875\u001b[0m \u001b[32m━━━━━━━━━━━━━━━━━━━━\u001b[0m\u001b[37m\u001b[0m \u001b[1m4s\u001b[0m 5ms/step - loss: 0.6009 - val_loss: 0.5898\n",
      "Epoch 15/30\n",
      "\u001b[1m875/875\u001b[0m \u001b[32m━━━━━━━━━━━━━━━━━━━━\u001b[0m\u001b[37m\u001b[0m \u001b[1m4s\u001b[0m 5ms/step - loss: 0.6001 - val_loss: 0.6261\n",
      "Epoch 16/30\n",
      "\u001b[1m875/875\u001b[0m \u001b[32m━━━━━━━━━━━━━━━━━━━━\u001b[0m\u001b[37m\u001b[0m \u001b[1m4s\u001b[0m 5ms/step - loss: 0.5974 - val_loss: 0.5947\n",
      "Epoch 17/30\n",
      "\u001b[1m875/875\u001b[0m \u001b[32m━━━━━━━━━━━━━━━━━━━━\u001b[0m\u001b[37m\u001b[0m \u001b[1m4s\u001b[0m 4ms/step - loss: 0.5975 - val_loss: 0.5948\n",
      "Epoch 18/30\n",
      "\u001b[1m875/875\u001b[0m \u001b[32m━━━━━━━━━━━━━━━━━━━━\u001b[0m\u001b[37m\u001b[0m \u001b[1m3s\u001b[0m 4ms/step - loss: 0.5946 - val_loss: 0.5941\n",
      "Epoch 19/30\n",
      "\u001b[1m875/875\u001b[0m \u001b[32m━━━━━━━━━━━━━━━━━━━━\u001b[0m\u001b[37m\u001b[0m \u001b[1m4s\u001b[0m 4ms/step - loss: 0.5945 - val_loss: 0.5988\n"
     ]
    }
   ],
   "source": [
    "model_9_4.model_train(epochs=30, verbose=1, patience=5)"
   ]
  },
  {
   "cell_type": "code",
   "execution_count": 46,
   "id": "a6820af1",
   "metadata": {},
   "outputs": [
    {
     "name": "stdout",
     "output_type": "stream",
     "text": [
      "Train MSE : [2.3600683212280273, 0.9286287426948547, 0.8368867635726929, 0.7547671794891357, 0.6852201819419861, 0.6466768383979797, 0.6267961859703064, 0.620735764503479, 0.6151325702667236, 0.6102592349052429, 0.6076390743255615, 0.6072209477424622, 0.6015505194664001, 0.5999023914337158, 0.6015544533729553, 0.5962674021720886, 0.5951195359230042, 0.595492422580719, 0.5938342809677124]\n",
      "Validation MSE : [1.0088223218917847, 0.9000166654586792, 0.7957763671875, 0.7157384157180786, 0.6625100374221802, 0.6283418536186218, 0.6521666646003723, 0.6226512789726257, 0.620424211025238, 0.608198881149292, 0.655620813369751, 0.6016947031021118, 0.6120434403419495, 0.5898231863975525, 0.6260702610015869, 0.5947109460830688, 0.594819962978363, 0.594072699546814, 0.5987779498100281]\n"
     ]
    },
    {
     "data": {
      "image/png": "[encoded data removed]",
      "text/plain": [
       "<Figure size 640x480 with 1 Axes>"
      ]
     },
     "metadata": {},
     "output_type": "display_data"
    },
    {
     "name": "stdout",
     "output_type": "stream",
     "text": [
      "Best model loss : 0.5948461890220642\n"
     ]
    }
   ],
   "source": [
    "model_9_4.plot_history()\n",
    "model_9_4.evaluate_model(batch_size=128)"
   ]
  },
  {
   "cell_type": "code",
   "execution_count": 47,
   "id": "a3b76245",
   "metadata": {},
   "outputs": [
    {
     "name": "stdout",
     "output_type": "stream",
     "text": [
      "P_matrices shape: (59992, 5, 4)\n",
      "m_heights shape: (59992, 4)\n",
      "Range of log m_heights:\n",
      "Min: [   6.3078012   59.612354   217.01117   1291.7003   ]\n",
      "Max: [4.2418826e+02 5.4309243e+03 4.0550069e+05 2.9340678e+08]\n"
     ]
    }
   ],
   "source": [
    "filepath= \"/mnt/d/MS/deep_learning/m_height_prediction/samples_combined/G_9_5_maxM4.pklgz\"\n",
    "model_9_5 = CustomModel(n=9, k=5, max_m_value=4)\n",
    "model_9_5.load_and_preprocess_data(filepath)"
   ]
  },
  {
   "cell_type": "code",
   "execution_count": 48,
   "id": "3fd9309f",
   "metadata": {},
   "outputs": [
    {
     "name": "stdout",
     "output_type": "stream",
     "text": [
      "Train dataset shape: (191970, 5, 4) (191970, 4)\n",
      "Validation dataset shape: (9599, 5, 4) (9599, 4)\n",
      "Test dataset shape: (11999, 5, 4) (11999, 4)\n"
     ]
    }
   ],
   "source": [
    "model_9_5.train_test_val_split(val_split=0.2, test_split=0.2, num_permutations=4, batch_size=128, random_state=2342)"
   ]
  },
  {
   "cell_type": "code",
   "execution_count": 49,
   "id": "0c1f31be",
   "metadata": {},
   "outputs": [
    {
     "name": "stdout",
     "output_type": "stream",
     "text": [
      "Model compiled.\n"
     ]
    },
    {
     "data": {
      "text/html": [
       "<pre style=\"white-space:pre;overflow-x:auto;line-height:normal;font-family:Menlo,'DejaVu Sans Mono',consolas,'Courier New',monospace\"><span style=\"font-weight: bold\">Model: \"functional_17\"</span>\n",
       "</pre>\n"
      ],
      "text/plain": [
       "\u001b[1mModel: \"functional_17\"\u001b[0m\n"
      ]
     },
     "metadata": {},
     "output_type": "display_data"
    },
    {
     "data": {
      "text/html": [
       "<pre style=\"white-space:pre;overflow-x:auto;line-height:normal;font-family:Menlo,'DejaVu Sans Mono',consolas,'Courier New',monospace\">┏━━━━━━━━━━━━━━━━━━━━━━━━━━━━━━━━━┳━━━━━━━━━━━━━━━━━━━━━━━━┳━━━━━━━━━━━━━━━┓\n",
       "┃<span style=\"font-weight: bold\"> Layer (type)                    </span>┃<span style=\"font-weight: bold\"> Output Shape           </span>┃<span style=\"font-weight: bold\">       Param # </span>┃\n",
       "┡━━━━━━━━━━━━━━━━━━━━━━━━━━━━━━━━━╇━━━━━━━━━━━━━━━━━━━━━━━━╇━━━━━━━━━━━━━━━┩\n",
       "│ input_layer_8 (<span style=\"color: #0087ff; text-decoration-color: #0087ff\">InputLayer</span>)      │ (<span style=\"color: #00d7ff; text-decoration-color: #00d7ff\">None</span>, <span style=\"color: #00af00; text-decoration-color: #00af00\">5</span>, <span style=\"color: #00af00; text-decoration-color: #00af00\">4</span>)           │             <span style=\"color: #00af00; text-decoration-color: #00af00\">0</span> │\n",
       "├─────────────────────────────────┼────────────────────────┼───────────────┤\n",
       "│ permute_4 (<span style=\"color: #0087ff; text-decoration-color: #0087ff\">Permute</span>)             │ (<span style=\"color: #00d7ff; text-decoration-color: #00d7ff\">None</span>, <span style=\"color: #00af00; text-decoration-color: #00af00\">4</span>, <span style=\"color: #00af00; text-decoration-color: #00af00\">5</span>)           │             <span style=\"color: #00af00; text-decoration-color: #00af00\">0</span> │\n",
       "├─────────────────────────────────┼────────────────────────┼───────────────┤\n",
       "│ time_distributed_4              │ (<span style=\"color: #00d7ff; text-decoration-color: #00d7ff\">None</span>, <span style=\"color: #00af00; text-decoration-color: #00af00\">4</span>, <span style=\"color: #00af00; text-decoration-color: #00af00\">64</span>)          │         <span style=\"color: #00af00; text-decoration-color: #00af00\">4,544</span> │\n",
       "│ (<span style=\"color: #0087ff; text-decoration-color: #0087ff\">TimeDistributed</span>)               │                        │               │\n",
       "├─────────────────────────────────┼────────────────────────┼───────────────┤\n",
       "│ global_average_pooling1d_4      │ (<span style=\"color: #00d7ff; text-decoration-color: #00d7ff\">None</span>, <span style=\"color: #00af00; text-decoration-color: #00af00\">64</span>)             │             <span style=\"color: #00af00; text-decoration-color: #00af00\">0</span> │\n",
       "│ (<span style=\"color: #0087ff; text-decoration-color: #0087ff\">GlobalAveragePooling1D</span>)        │                        │               │\n",
       "├─────────────────────────────────┼────────────────────────┼───────────────┤\n",
       "│ dense_14 (<span style=\"color: #0087ff; text-decoration-color: #0087ff\">Dense</span>)                │ (<span style=\"color: #00d7ff; text-decoration-color: #00d7ff\">None</span>, <span style=\"color: #00af00; text-decoration-color: #00af00\">4</span>)              │           <span style=\"color: #00af00; text-decoration-color: #00af00\">260</span> │\n",
       "└─────────────────────────────────┴────────────────────────┴───────────────┘\n",
       "</pre>\n"
      ],
      "text/plain": [
       "┏━━━━━━━━━━━━━━━━━━━━━━━━━━━━━━━━━┳━━━━━━━━━━━━━━━━━━━━━━━━┳━━━━━━━━━━━━━━━┓\n",
       "┃\u001b[1m \u001b[0m\u001b[1mLayer (type)                   \u001b[0m\u001b[1m \u001b[0m┃\u001b[1m \u001b[0m\u001b[1mOutput Shape          \u001b[0m\u001b[1m \u001b[0m┃\u001b[1m \u001b[0m\u001b[1m      Param #\u001b[0m\u001b[1m \u001b[0m┃\n",
       "┡━━━━━━━━━━━━━━━━━━━━━━━━━━━━━━━━━╇━━━━━━━━━━━━━━━━━━━━━━━━╇━━━━━━━━━━━━━━━┩\n",
       "│ input_layer_8 (\u001b[38;5;33mInputLayer\u001b[0m)      │ (\u001b[38;5;45mNone\u001b[0m, \u001b[38;5;34m5\u001b[0m, \u001b[38;5;34m4\u001b[0m)           │             \u001b[38;5;34m0\u001b[0m │\n",
       "├─────────────────────────────────┼────────────────────────┼───────────────┤\n",
       "│ permute_4 (\u001b[38;5;33mPermute\u001b[0m)             │ (\u001b[38;5;45mNone\u001b[0m, \u001b[38;5;34m4\u001b[0m, \u001b[38;5;34m5\u001b[0m)           │             \u001b[38;5;34m0\u001b[0m │\n",
       "├─────────────────────────────────┼────────────────────────┼───────────────┤\n",
       "│ time_distributed_4              │ (\u001b[38;5;45mNone\u001b[0m, \u001b[38;5;34m4\u001b[0m, \u001b[38;5;34m64\u001b[0m)          │         \u001b[38;5;34m4,544\u001b[0m │\n",
       "│ (\u001b[38;5;33mTimeDistributed\u001b[0m)               │                        │               │\n",
       "├─────────────────────────────────┼────────────────────────┼───────────────┤\n",
       "│ global_average_pooling1d_4      │ (\u001b[38;5;45mNone\u001b[0m, \u001b[38;5;34m64\u001b[0m)             │             \u001b[38;5;34m0\u001b[0m │\n",
       "│ (\u001b[38;5;33mGlobalAveragePooling1D\u001b[0m)        │                        │               │\n",
       "├─────────────────────────────────┼────────────────────────┼───────────────┤\n",
       "│ dense_14 (\u001b[38;5;33mDense\u001b[0m)                │ (\u001b[38;5;45mNone\u001b[0m, \u001b[38;5;34m4\u001b[0m)              │           \u001b[38;5;34m260\u001b[0m │\n",
       "└─────────────────────────────────┴────────────────────────┴───────────────┘\n"
      ]
     },
     "metadata": {},
     "output_type": "display_data"
    },
    {
     "data": {
      "text/html": [
       "<pre style=\"white-space:pre;overflow-x:auto;line-height:normal;font-family:Menlo,'DejaVu Sans Mono',consolas,'Courier New',monospace\"><span style=\"font-weight: bold\"> Total params: </span><span style=\"color: #00af00; text-decoration-color: #00af00\">4,804</span> (18.77 KB)\n",
       "</pre>\n"
      ],
      "text/plain": [
       "\u001b[1m Total params: \u001b[0m\u001b[38;5;34m4,804\u001b[0m (18.77 KB)\n"
      ]
     },
     "metadata": {},
     "output_type": "display_data"
    },
    {
     "data": {
      "text/html": [
       "<pre style=\"white-space:pre;overflow-x:auto;line-height:normal;font-family:Menlo,'DejaVu Sans Mono',consolas,'Courier New',monospace\"><span style=\"font-weight: bold\"> Trainable params: </span><span style=\"color: #00af00; text-decoration-color: #00af00\">4,804</span> (18.77 KB)\n",
       "</pre>\n"
      ],
      "text/plain": [
       "\u001b[1m Trainable params: \u001b[0m\u001b[38;5;34m4,804\u001b[0m (18.77 KB)\n"
      ]
     },
     "metadata": {},
     "output_type": "display_data"
    },
    {
     "data": {
      "text/html": [
       "<pre style=\"white-space:pre;overflow-x:auto;line-height:normal;font-family:Menlo,'DejaVu Sans Mono',consolas,'Courier New',monospace\"><span style=\"font-weight: bold\"> Non-trainable params: </span><span style=\"color: #00af00; text-decoration-color: #00af00\">0</span> (0.00 B)\n",
       "</pre>\n"
      ],
      "text/plain": [
       "\u001b[1m Non-trainable params: \u001b[0m\u001b[38;5;34m0\u001b[0m (0.00 B)\n"
      ]
     },
     "metadata": {},
     "output_type": "display_data"
    }
   ],
   "source": [
    "model_9_5.model_compile(build_model, print_summary=True)"
   ]
  },
  {
   "cell_type": "code",
   "execution_count": 50,
   "id": "b99f0ab3",
   "metadata": {},
   "outputs": [
    {
     "name": "stdout",
     "output_type": "stream",
     "text": [
      "Epoch 1/30\n",
      "\u001b[1m1500/1500\u001b[0m \u001b[32m━━━━━━━━━━━━━━━━━━━━\u001b[0m\u001b[37m\u001b[0m \u001b[1m11s\u001b[0m 6ms/step - loss: 4.5970 - val_loss: 0.9838\n",
      "Epoch 2/30\n",
      "\u001b[1m1500/1500\u001b[0m \u001b[32m━━━━━━━━━━━━━━━━━━━━\u001b[0m\u001b[37m\u001b[0m \u001b[1m6s\u001b[0m 4ms/step - loss: 0.9375 - val_loss: 0.8251\n",
      "Epoch 3/30\n",
      "\u001b[1m1500/1500\u001b[0m \u001b[32m━━━━━━━━━━━━━━━━━━━━\u001b[0m\u001b[37m\u001b[0m \u001b[1m7s\u001b[0m 5ms/step - loss: 0.7697 - val_loss: 0.6879\n",
      "Epoch 4/30\n",
      "\u001b[1m1500/1500\u001b[0m \u001b[32m━━━━━━━━━━━━━━━━━━━━\u001b[0m\u001b[37m\u001b[0m \u001b[1m7s\u001b[0m 5ms/step - loss: 0.6603 - val_loss: 0.6256\n",
      "Epoch 5/30\n",
      "\u001b[1m1500/1500\u001b[0m \u001b[32m━━━━━━━━━━━━━━━━━━━━\u001b[0m\u001b[37m\u001b[0m \u001b[1m7s\u001b[0m 4ms/step - loss: 0.6236 - val_loss: 0.6278\n",
      "Epoch 6/30\n",
      "\u001b[1m1500/1500\u001b[0m \u001b[32m━━━━━━━━━━━━━━━━━━━━\u001b[0m\u001b[37m\u001b[0m \u001b[1m6s\u001b[0m 4ms/step - loss: 0.6141 - val_loss: 0.6080\n",
      "Epoch 7/30\n",
      "\u001b[1m1500/1500\u001b[0m \u001b[32m━━━━━━━━━━━━━━━━━━━━\u001b[0m\u001b[37m\u001b[0m \u001b[1m6s\u001b[0m 4ms/step - loss: 0.6020 - val_loss: 0.5996\n",
      "Epoch 8/30\n",
      "\u001b[1m1500/1500\u001b[0m \u001b[32m━━━━━━━━━━━━━━━━━━━━\u001b[0m\u001b[37m\u001b[0m \u001b[1m6s\u001b[0m 4ms/step - loss: 0.5952 - val_loss: 0.5982\n",
      "Epoch 9/30\n",
      "\u001b[1m1500/1500\u001b[0m \u001b[32m━━━━━━━━━━━━━━━━━━━━\u001b[0m\u001b[37m\u001b[0m \u001b[1m7s\u001b[0m 5ms/step - loss: 0.5947 - val_loss: 0.5959\n",
      "Epoch 10/30\n",
      "\u001b[1m1500/1500\u001b[0m \u001b[32m━━━━━━━━━━━━━━━━━━━━\u001b[0m\u001b[37m\u001b[0m \u001b[1m7s\u001b[0m 5ms/step - loss: 0.5900 - val_loss: 0.5999\n",
      "Epoch 11/30\n",
      "\u001b[1m1500/1500\u001b[0m \u001b[32m━━━━━━━━━━━━━━━━━━━━\u001b[0m\u001b[37m\u001b[0m \u001b[1m7s\u001b[0m 5ms/step - loss: 0.5890 - val_loss: 0.5863\n",
      "Epoch 12/30\n",
      "\u001b[1m1500/1500\u001b[0m \u001b[32m━━━━━━━━━━━━━━━━━━━━\u001b[0m\u001b[37m\u001b[0m \u001b[1m7s\u001b[0m 5ms/step - loss: 0.5902 - val_loss: 0.5893\n",
      "Epoch 13/30\n",
      "\u001b[1m1500/1500\u001b[0m \u001b[32m━━━━━━━━━━━━━━━━━━━━\u001b[0m\u001b[37m\u001b[0m \u001b[1m7s\u001b[0m 4ms/step - loss: 0.5838 - val_loss: 0.6277\n",
      "Epoch 14/30\n",
      "\u001b[1m1500/1500\u001b[0m \u001b[32m━━━━━━━━━━━━━━━━━━━━\u001b[0m\u001b[37m\u001b[0m \u001b[1m7s\u001b[0m 4ms/step - loss: 0.5883 - val_loss: 0.5981\n",
      "Epoch 15/30\n",
      "\u001b[1m1500/1500\u001b[0m \u001b[32m━━━━━━━━━━━━━━━━━━━━\u001b[0m\u001b[37m\u001b[0m \u001b[1m7s\u001b[0m 5ms/step - loss: 0.5832 - val_loss: 0.5855\n",
      "Epoch 16/30\n",
      "\u001b[1m1500/1500\u001b[0m \u001b[32m━━━━━━━━━━━━━━━━━━━━\u001b[0m\u001b[37m\u001b[0m \u001b[1m7s\u001b[0m 5ms/step - loss: 0.5809 - val_loss: 0.5904\n",
      "Epoch 17/30\n",
      "\u001b[1m1500/1500\u001b[0m \u001b[32m━━━━━━━━━━━━━━━━━━━━\u001b[0m\u001b[37m\u001b[0m \u001b[1m7s\u001b[0m 4ms/step - loss: 0.5822 - val_loss: 0.5821\n",
      "Epoch 18/30\n",
      "\u001b[1m1500/1500\u001b[0m \u001b[32m━━━━━━━━━━━━━━━━━━━━\u001b[0m\u001b[37m\u001b[0m \u001b[1m7s\u001b[0m 4ms/step - loss: 0.5741 - val_loss: 0.5889\n",
      "Epoch 19/30\n",
      "\u001b[1m1500/1500\u001b[0m \u001b[32m━━━━━━━━━━━━━━━━━━━━\u001b[0m\u001b[37m\u001b[0m \u001b[1m7s\u001b[0m 5ms/step - loss: 0.5784 - val_loss: 0.5866\n",
      "Epoch 20/30\n",
      "\u001b[1m1500/1500\u001b[0m \u001b[32m━━━━━━━━━━━━━━━━━━━━\u001b[0m\u001b[37m\u001b[0m \u001b[1m6s\u001b[0m 4ms/step - loss: 0.5769 - val_loss: 0.5887\n",
      "Epoch 21/30\n",
      "\u001b[1m1500/1500\u001b[0m \u001b[32m━━━━━━━━━━━━━━━━━━━━\u001b[0m\u001b[37m\u001b[0m \u001b[1m6s\u001b[0m 4ms/step - loss: 0.5779 - val_loss: 0.5808\n",
      "Epoch 22/30\n",
      "\u001b[1m1500/1500\u001b[0m \u001b[32m━━━━━━━━━━━━━━━━━━━━\u001b[0m\u001b[37m\u001b[0m \u001b[1m7s\u001b[0m 5ms/step - loss: 0.5711 - val_loss: 0.5846\n",
      "Epoch 23/30\n",
      "\u001b[1m1500/1500\u001b[0m \u001b[32m━━━━━━━━━━━━━━━━━━━━\u001b[0m\u001b[37m\u001b[0m \u001b[1m7s\u001b[0m 5ms/step - loss: 0.5718 - val_loss: 0.5803\n",
      "Epoch 24/30\n",
      "\u001b[1m1500/1500\u001b[0m \u001b[32m━━━━━━━━━━━━━━━━━━━━\u001b[0m\u001b[37m\u001b[0m \u001b[1m7s\u001b[0m 4ms/step - loss: 0.5728 - val_loss: 0.5818\n",
      "Epoch 25/30\n",
      "\u001b[1m1500/1500\u001b[0m \u001b[32m━━━━━━━━━━━━━━━━━━━━\u001b[0m\u001b[37m\u001b[0m \u001b[1m7s\u001b[0m 4ms/step - loss: 0.5692 - val_loss: 0.5794\n",
      "Epoch 26/30\n",
      "\u001b[1m1500/1500\u001b[0m \u001b[32m━━━━━━━━━━━━━━━━━━━━\u001b[0m\u001b[37m\u001b[0m \u001b[1m7s\u001b[0m 5ms/step - loss: 0.5757 - val_loss: 0.5767\n",
      "Epoch 27/30\n",
      "\u001b[1m1500/1500\u001b[0m \u001b[32m━━━━━━━━━━━━━━━━━━━━\u001b[0m\u001b[37m\u001b[0m \u001b[1m7s\u001b[0m 4ms/step - loss: 0.5712 - val_loss: 0.5835\n",
      "Epoch 28/30\n",
      "\u001b[1m1500/1500\u001b[0m \u001b[32m━━━━━━━━━━━━━━━━━━━━\u001b[0m\u001b[37m\u001b[0m \u001b[1m6s\u001b[0m 4ms/step - loss: 0.5687 - val_loss: 0.5721\n",
      "Epoch 29/30\n",
      "\u001b[1m1500/1500\u001b[0m \u001b[32m━━━━━━━━━━━━━━━━━━━━\u001b[0m\u001b[37m\u001b[0m \u001b[1m7s\u001b[0m 4ms/step - loss: 0.5677 - val_loss: 0.5721\n",
      "Epoch 30/30\n",
      "\u001b[1m1500/1500\u001b[0m \u001b[32m━━━━━━━━━━━━━━━━━━━━\u001b[0m\u001b[37m\u001b[0m \u001b[1m7s\u001b[0m 4ms/step - loss: 0.5658 - val_loss: 0.5824\n"
     ]
    }
   ],
   "source": [
    "model_9_5.model_train(epochs=30, verbose=1, patience=5)"
   ]
  },
  {
   "cell_type": "code",
   "execution_count": 51,
   "id": "488d6b23",
   "metadata": {},
   "outputs": [
    {
     "name": "stdout",
     "output_type": "stream",
     "text": [
      "Train MSE : [1.8510109186172485, 0.8897569179534912, 0.7390426397323608, 0.653509259223938, 0.6217973232269287, 0.6090213656425476, 0.6009571552276611, 0.5975359082221985, 0.5926785469055176, 0.5920372605323792, 0.5891092419624329, 0.5884543061256409, 0.5843445062637329, 0.5841807126998901, 0.5819243788719177, 0.5800101161003113, 0.5792043805122375, 0.5782086253166199, 0.5762202143669128, 0.57583087682724, 0.5742664933204651, 0.5737632513046265, 0.572267472743988, 0.5714603662490845, 0.5700344443321228, 0.569582462310791, 0.5687071084976196, 0.5677919387817383, 0.5671120882034302, 0.5666723847389221]\n",
      "Validation MSE : [0.9838311076164246, 0.8250546455383301, 0.6879370808601379, 0.6256443858146667, 0.6277950406074524, 0.6080271601676941, 0.5996489524841309, 0.5981540083885193, 0.5958730578422546, 0.5998858213424683, 0.586263120174408, 0.5892615914344788, 0.6276755928993225, 0.598124623298645, 0.5854795575141907, 0.5903620719909668, 0.5820512771606445, 0.5888900756835938, 0.5866321325302124, 0.5887053608894348, 0.5807585120201111, 0.5845925211906433, 0.5802980065345764, 0.5817747116088867, 0.5793859958648682, 0.5766833424568176, 0.5834618806838989, 0.5721378326416016, 0.5720680952072144, 0.5824199318885803]\n"
     ]
    },
    {
     "data": {
      "image/png": "[encoded data removed]",
      "text/plain": [
       "<Figure size 640x480 with 1 Axes>"
      ]
     },
     "metadata": {},
     "output_type": "display_data"
    },
    {
     "name": "stdout",
     "output_type": "stream",
     "text": [
      "Best model loss : 0.5649280548095703\n"
     ]
    }
   ],
   "source": [
    "model_9_5.plot_history()\n",
    "model_9_5.evaluate_model(batch_size=128)"
   ]
  },
  {
   "cell_type": "code",
   "execution_count": 9,
   "id": "f84a5a50",
   "metadata": {},
   "outputs": [],
   "source": [
    "from tamu_csce_636_project1 import Evaluator\n",
    "evaluator = Evaluator(\n",
    "    first_name=\"Your Name\",\n",
    "    last_name=\"Your Name\",\n",
    "    email=\"email@tamu.edu\",\n",
    "    print=False,\n",
    ")"
   ]
  },
  {
   "cell_type": "code",
   "execution_count": 10,
   "id": "4d426d35",
   "metadata": {},
   "outputs": [],
   "source": [
    "def predict_and_evaluate(n,k,m,P_matrices):\n",
    "    ## load model\n",
    "    model_name = f'model_{n}_{k}.keras'\n",
    "    model = tf.keras.models.load_model(model_name)\n",
    "    m_heights = []\n",
    "    P_matrices = np.array(P_matrices, dtype=np.float32)\n",
    "    m_heights_pred = model.predict(P_matrices.reshape(len(P_matrices), k, n-k), verbose=0)\n",
    "    m_heights =[np.exp(m_heights_pred[i][m-1]) for i in range(len(P_matrices))]\n",
    "    # print(P_matrices[0])\n",
    "    # print(m_heights_pred[0])\n",
    "    # print(m_heights_pred[0][m-1])\n",
    "    # print(np.exp(m_heights_pred[0][m-1]))\n",
    "    # print(m_heights[0])\n",
    "    return m_heights"
   ]
  },
  {
   "cell_type": "code",
   "execution_count": 36,
   "id": "2cf9814f",
   "metadata": {},
   "outputs": [
    {
     "name": "stdout",
     "output_type": "stream",
     "text": [
      "σ: defaultdict(<function Evaluator.eval.<locals>.<lambda> at 0x7f9f6f3e5760>, {(9, 4, 2): 0.18543618600302486, (9, 4, 3): 0.22250887292365357, (9, 4, 4): 0.8153108420859081, (9, 4, 5): 3.442779723837407})\n"
     ]
    }
   ],
   "source": [
    "σ = evaluator.eval(\n",
    "    inputs=model_9_4.eval_inputs,\n",
    "    outputs=model_9_4.eval_outputs,\n",
    "    func=predict_and_evaluate,\n",
    ")\n",
    "print(\"σ:\", σ)"
   ]
  },
  {
   "cell_type": "code",
   "execution_count": 52,
   "id": "e2e36aec",
   "metadata": {},
   "outputs": [
    {
     "name": "stdout",
     "output_type": "stream",
     "text": [
      "σ: defaultdict(<function Evaluator.eval.<locals>.<lambda> at 0x7f9f6f8bd300>, {(9, 5, 2): 0.21212121455433483, (9, 5, 3): 0.788908816751541, (9, 5, 4): 3.393564808842936})\n"
     ]
    }
   ],
   "source": [
    "σ = evaluator.eval(\n",
    "    inputs=model_9_5.eval_inputs,\n",
    "    outputs=model_9_5.eval_outputs,\n",
    "    func=predict_and_evaluate,\n",
    ")\n",
    "print(\"σ:\", σ)"
   ]
  },
  {
   "cell_type": "code",
   "execution_count": 17,
   "id": "f394f4fc",
   "metadata": {},
   "outputs": [],
   "source": [
    "models_dict =  {\n",
    "    \"model_1\": {'n': 9, 'k': 4, 'max_m_value': 5, 'model': None, 'file_name': \"G_9_4_maxM5.pklgz\"},\n",
    "    \"model_2\": {'n': 9, 'k': 5, 'max_m_value': 4, 'model': None, 'file_name': \"G_9_5_maxM4.pklgz\"},\n",
    "    \"model_3\": {'n': 9, 'k': 6, 'max_m_value': 3, 'model': None, 'file_name': \"G_9_6_maxM3.pklgz\"},\n",
    "    \"model_4\": {'n': 10, 'k': 4, 'max_m_value': 6, 'model': None, 'file_name': \"G_10_4_maxM6.pklgz\"},\n",
    "    \"model_5\": {'n': 10, 'k': 5, 'max_m_value': 5, 'model': None, 'file_name': \"G_10_5_maxM5.pklgz\"},\n",
    "    \"model_6\": {'n': 10, 'k': 6, 'max_m_value': 6, 'model': None, 'file_name': \"G_10_6_maxM6.pklgz\"},\n",
    "}"
   ]
  },
  {
   "cell_type": "code",
   "execution_count": null,
   "id": "4bf06c64",
   "metadata": {},
   "outputs": [
    {
     "name": "stdout",
     "output_type": "stream",
     "text": [
      "Loading data for model_9_4...\n",
      "P_matrices shape: (34999, 4, 5)\n",
      "m_heights shape: (34999, 5)\n",
      "Range of log m_heights:\n",
      "Min: [   3.3710756    8.660064    75.08341    182.32542   1253.2301   ]\n",
      "Max: [2.7675543e+02 7.5315314e+02 4.8695015e+03 2.2775238e+05 7.9118080e+08]\n",
      "Generating dataset for model_9_4...\n",
      "Train dataset shape: (111995, 4, 5) (111995, 5)\n",
      "Validation dataset shape: (5600, 4, 5) (5600, 5)\n",
      "Test dataset shape: (7000, 4, 5) (7000, 5)\n",
      "Compiling model for model_9_4...\n",
      "Model compiled.\n",
      "Training model for model_9_4...\n",
      "Evaluating model for model_9_4...\n",
      "Train MSE : [3.479238510131836, 0.9697700142860413, 0.8824591636657715, 0.8165178298950195, 0.7465223073959351, 0.6878271102905273, 0.6475480794906616, 0.6262642741203308, 0.6211437582969666, 0.6127335429191589, 0.6091058850288391, 0.6054422855377197, 0.603011429309845, 0.6016635894775391, 0.5984802842140198, 0.5975146889686584, 0.5971806049346924, 0.5949608683586121, 0.5937476754188538, 0.5927119255065918, 0.5921145081520081, 0.5912352204322815, 0.5897660255432129, 0.5900121927261353, 0.5887376666069031, 0.5869957208633423, 0.5875157713890076, 0.5862739682197571, 0.5863319039344788]\n",
      "Validation MSE : [1.0430980920791626, 0.933556854724884, 0.8470502495765686, 0.7762607336044312, 0.7114164233207703, 0.6561738848686218, 0.6280441880226135, 0.6133759021759033, 0.6191983222961426, 0.6112228035926819, 0.6129807233810425, 0.6017646789550781, 0.5972808003425598, 0.6460633277893066, 0.593682050704956, 0.5939691066741943, 0.5922440886497498, 0.5902472138404846, 0.5916914343833923, 0.6023613810539246, 0.5864129066467285, 0.5931703448295593, 0.5993892550468445, 0.5830244421958923, 0.5871754884719849, 0.5938197374343872, 0.5849897861480713, 0.5917751789093018, 0.585209846496582]\n"
     ]
    },
    {
     "data": {
      "image/png": "[encoded data removed]",
      "text/plain": [
       "<Figure size 640x480 with 1 Axes>"
      ]
     },
     "metadata": {},
     "output_type": "display_data"
    },
    {
     "name": "stdout",
     "output_type": "stream",
     "text": [
      "Best model loss : 0.5841917991638184\n",
      "Done with model_9_4.\n",
      "-----------------------------------------------------\n",
      "Loading data for model_9_5...\n",
      "P_matrices shape: (59992, 5, 4)\n",
      "m_heights shape: (59992, 4)\n",
      "Range of log m_heights:\n",
      "Min: [   6.3078012   59.612354   217.01117   1291.7003   ]\n",
      "Max: [4.2418826e+02 5.4309243e+03 4.0550069e+05 2.9340678e+08]\n",
      "Generating dataset for model_9_5...\n",
      "Train dataset shape: (191970, 5, 4) (191970, 4)\n",
      "Validation dataset shape: (9599, 5, 4) (9599, 4)\n",
      "Test dataset shape: (11999, 5, 4) (11999, 4)\n",
      "Compiling model for model_9_5...\n",
      "Model compiled.\n",
      "Training model for model_9_5...\n"
     ]
    }
   ],
   "source": [
    "val_split = 0.2\n",
    "test_split = 0.2\n",
    "num_permutations = 4\n",
    "batch_size = 128\n",
    "random_state = 2342\n",
    "epochs = 30\n",
    "patience = 5\n",
    "train_verbosity = 0\n",
    "for model_name, model_info in models_dict.items():\n",
    "    # if model_name != \"model_1\":\n",
    "    #     break\n",
    "    filepath = \"/mnt/d/MS/deep_learning/m_height_prediction/samples_combined/\" + model_info['file_name']\n",
    "    n = model_info['n']\n",
    "    k = model_info['k']\n",
    "    max_m_value = model_info['max_m_value']\n",
    "    model_info['model'] = CustomModel(n=n, k=k, max_m_value=max_m_value)\n",
    "    print(f\"Loading data for model_{n}_{k}...\")\n",
    "    model_info['model'].load_and_preprocess_data(filepath)\n",
    "    print(f\"Generating dataset for model_{n}_{k}...\")\n",
    "    model_info['model'].train_test_val_split(val_split=val_split, test_split=test_split, num_permutations=num_permutations, batch_size=batch_size, random_state=random_state)\n",
    "    print(f\"Compiling model for model_{n}_{k}...\")\n",
    "    model_info['model'].model_compile(build_model, print_summary=False)\n",
    "    print(f\"Training model for model_{n}_{k}...\")\n",
    "    model_info['model'].model_train(epochs=epochs, verbose=train_verbosity, patience=patience)\n",
    "    print(f\"Evaluating model for model_{n}_{k}...\")\n",
    "    model_info['model'].plot_history()\n",
    "    model_info['model'].evaluate_model(batch_size=batch_size)\n",
    "    print(f\"Done with model_{n}_{k}.\")\n",
    "    print(\"-----------------------------------------------------\")\n",
    "    "
   ]
  },
  {
   "cell_type": "code",
   "execution_count": null,
   "id": "5ebeaf0f",
   "metadata": {},
   "outputs": [
    {
     "ename": "AttributeError",
     "evalue": "'NoneType' object has no attribute 'eval_inputs'",
     "output_type": "error",
     "traceback": [
      "\u001b[31m---------------------------------------------------------------------------\u001b[39m",
      "\u001b[31mAttributeError\u001b[39m                            Traceback (most recent call last)",
      "\u001b[36mCell\u001b[39m\u001b[36m \u001b[39m\u001b[32mIn[19]\u001b[39m\u001b[32m, line 5\u001b[39m\n\u001b[32m      1\u001b[39m \u001b[38;5;28;01mfor\u001b[39;00m model_name, model_info \u001b[38;5;129;01min\u001b[39;00m models_dict.items():\n\u001b[32m      2\u001b[39m     \u001b[38;5;66;03m# if model_name != \"model_1\":\u001b[39;00m\n\u001b[32m      3\u001b[39m     \u001b[38;5;66;03m#     break\u001b[39;00m\n\u001b[32m      4\u001b[39m     σ = evaluator.eval(\n\u001b[32m----> \u001b[39m\u001b[32m5\u001b[39m         inputs=\u001b[43mmodel_info\u001b[49m\u001b[43m[\u001b[49m\u001b[33;43m'\u001b[39;49m\u001b[33;43mmodel\u001b[39;49m\u001b[33;43m'\u001b[39;49m\u001b[43m]\u001b[49m\u001b[43m.\u001b[49m\u001b[43meval_inputs\u001b[49m,\n\u001b[32m      6\u001b[39m         outputs=model_info[\u001b[33m'\u001b[39m\u001b[33mmodel\u001b[39m\u001b[33m'\u001b[39m].eval_outputs,\n\u001b[32m      7\u001b[39m         func=predict_and_evaluate,\n\u001b[32m      8\u001b[39m     )\n\u001b[32m      9\u001b[39m     \u001b[38;5;28mprint\u001b[39m(\u001b[33mf\u001b[39m\u001b[33m\"\u001b[39m\u001b[33mσ for \u001b[39m\u001b[38;5;132;01m{\u001b[39;00mmodel_name\u001b[38;5;132;01m}\u001b[39;00m\u001b[33m:\u001b[39m\u001b[33m\"\u001b[39m, σ)\n",
      "\u001b[31mAttributeError\u001b[39m: 'NoneType' object has no attribute 'eval_inputs'"
     ]
    }
   ],
   "source": [
    "for model_name, model_info in models_dict.items():\n",
    "    # if model_name != \"model_1\":\n",
    "    #     break\n",
    "    σ = evaluator.eval(\n",
    "        inputs=model_info['model'].eval_inputs,\n",
    "        outputs=model_info['model'].eval_outputs,\n",
    "        func=predict_and_evaluate,\n",
    "    )\n",
    "    print(f\"σ for {model_name}:\", σ)"
   ]
  }
 ],
 "metadata": {
  "kernelspec": {
   "display_name": "Python 3 (ipykernel)",
   "language": "python",
   "name": "python3"
  },
  "language_info": {
   "codemirror_mode": {
    "name": "ipython",
    "version": 3
   },
   "file_extension": ".py",
   "mimetype": "text/x-python",
   "name": "python",
   "nbconvert_exporter": "python",
   "pygments_lexer": "ipython3",
   "version": "3.12.9"
  }
 },
 "nbformat": 4,
 "nbformat_minor": 5
}
